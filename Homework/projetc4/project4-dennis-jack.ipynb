{
 "cells": [
  {
   "cell_type": "markdown",
   "metadata": {},
   "source": [
    "# <center>Project 4 -- MongoDB\n",
    "<center> Jiaxing (Jack) Zhang & Dennis Silva Jr.\n"
   ]
  },
  {
   "cell_type": "code",
   "execution_count": 1,
   "metadata": {
    "collapsed": true
   },
   "outputs": [],
   "source": [
    "## import mongoDB and start client\n",
    "import pymongo\n",
    "from bson.objectid import ObjectId \n",
    "client = pymongo.MongoClient() # default port"
   ]
  },
  {
   "cell_type": "code",
   "execution_count": 2,
   "metadata": {},
   "outputs": [
    {
     "name": "stdout",
     "output_type": "stream",
     "text": [
      "Database (proj4) erased\n"
     ]
    }
   ],
   "source": [
    "## drop_database (remove everything to start fresh) for testing purposes\n",
    "try:\n",
    "    client.drop_database('proj4')\n",
    "    print('Database (proj4) erased')\n",
    "except:\n",
    "    print('Database (proj4) is empty')"
   ]
  },
  {
   "cell_type": "code",
   "execution_count": 3,
   "metadata": {
    "collapsed": true
   },
   "outputs": [],
   "source": [
    "# create empty db called 'proj4'\n",
    "db = client['proj4']\n",
    "\n",
    "# create famous-people collection for part 1\n",
    "collection1 = db['famous-people-prob1']\n",
    "\n",
    "# create famous-people collection for part 2\n",
    "collection2 = db['famous-people-prob2']"
   ]
  },
  {
   "cell_type": "code",
   "execution_count": 4,
   "metadata": {
    "collapsed": true
   },
   "outputs": [],
   "source": [
    "## ISODATE is a date datatype for Mongoshell (Java datatype), python doesnt \n",
    "# recognize this date type, so make function that converts to python datetime object\n",
    "import dateutil\n",
    "def ISODate(date_string):\n",
    "    \"\"\"\n",
    "    Convert the date string originally \n",
    "    input through ISODate to Python date\n",
    "    \"\"\"\n",
    "    return dateutil.parser.parse(date_string)"
   ]
  },
  {
   "cell_type": "code",
   "execution_count": 5,
   "metadata": {
    "collapsed": true
   },
   "outputs": [],
   "source": [
    "# 10 famous people copied from: https://docs.mongodb.com/manual/reference/bios-example-collection/\n",
    "famous_people = [{\n",
    "    \"_id\" : 1,\n",
    "    \"name\" : {\n",
    "        \"first\" : \"John\",\n",
    "        \"last\" : \"Backus\"\n",
    "    },\n",
    "    \"birth\" : ISODate(\"1924-12-03T05:00:00Z\"),\n",
    "    \"death\" : ISODate(\"2007-03-17T04:00:00Z\"),\n",
    "    \"contribs\" : [\n",
    "        \"Fortran\",\n",
    "        \"ALGOL\",\n",
    "        \"Backus-Naur Form\",\n",
    "        \"FP\"\n",
    "    ],\n",
    "    \"awards\" : [\n",
    "        {\n",
    "            \"award\" : \"W.W. McDowell Award\",\n",
    "            \"year\" : 1967,\n",
    "            \"by\" : \"IEEE Computer Society\"\n",
    "        },\n",
    "        {\n",
    "            \"award\" : \"National Medal of Science\",\n",
    "            \"year\" : 1975,\n",
    "            \"by\" : \"National Science Foundation\"\n",
    "        },\n",
    "        {\n",
    "            \"award\" : \"Turing Award\",\n",
    "            \"year\" : 1977,\n",
    "            \"by\" : \"ACM\"\n",
    "        },\n",
    "        {\n",
    "            \"award\" : \"Draper Prize\",\n",
    "            \"year\" : 1993,\n",
    "            \"by\" : \"National Academy of Engineering\"\n",
    "        }\n",
    "    ]\n",
    "},\n",
    "\n",
    "{\n",
    "    \"_id\" : ObjectId(\"51df07b094c6acd67e492f41\"),\n",
    "    \"name\" : {\n",
    "        \"first\" : \"John\",\n",
    "        \"last\" : \"McCarthy\"\n",
    "    },\n",
    "    \"birth\" : ISODate(\"1927-09-04T04:00:00Z\"),\n",
    "    \"death\" : ISODate(\"2011-12-24T05:00:00Z\"),\n",
    "    \"contribs\" : [\n",
    "        \"Lisp\",\n",
    "        \"Artificial Intelligence\",\n",
    "        \"ALGOL\"\n",
    "    ],\n",
    "    \"awards\" : [\n",
    "        {\n",
    "            \"award\" : \"Turing Award\",\n",
    "            \"year\" : 1971,\n",
    "            \"by\" : \"ACM\"\n",
    "        },\n",
    "        {\n",
    "            \"award\" : \"Kyoto Prize\",\n",
    "            \"year\" : 1988,\n",
    "            \"by\" : \"Inamori Foundation\"\n",
    "        },\n",
    "        {\n",
    "            \"award\" : \"National Medal of Science\",\n",
    "            \"year\" : 1990,\n",
    "            \"by\" : \"National Science Foundation\"\n",
    "        }\n",
    "    ]\n",
    "},\n",
    "\n",
    "{\n",
    "    \"_id\" : 3,\n",
    "    \"name\" : {\n",
    "        \"first\" : \"Grace\",\n",
    "        \"last\" : \"Hopper\"\n",
    "    },\n",
    "    \"title\" : \"Rear Admiral\",\n",
    "    \"birth\" : ISODate(\"1906-12-09T05:00:00Z\"),\n",
    "    \"death\" : ISODate(\"1992-01-01T05:00:00Z\"),\n",
    "    \"contribs\" : [\n",
    "        \"UNIVAC\",\n",
    "        \"compiler\",\n",
    "        \"FLOW-MATIC\",\n",
    "        \"COBOL\"\n",
    "    ],\n",
    "    \"awards\" : [\n",
    "        {\n",
    "            \"award\" : \"Computer Sciences Man of the Year\",\n",
    "            \"year\" : 1969,\n",
    "            \"by\" : \"Data Processing Management Association\"\n",
    "        },\n",
    "        {\n",
    "            \"award\" : \"Distinguished Fellow\",\n",
    "            \"year\" : 1973,\n",
    "            \"by\" : \" British Computer Society\"\n",
    "        },\n",
    "        {\n",
    "            \"award\" : \"W. W. McDowell Award\",\n",
    "            \"year\" : 1976,\n",
    "            \"by\" : \"IEEE Computer Society\"\n",
    "        },\n",
    "        {\n",
    "            \"award\" : \"National Medal of Technology\",\n",
    "            \"year\" : 1991,\n",
    "            \"by\" : \"United States\"\n",
    "        }\n",
    "    ]\n",
    "},\n",
    "\n",
    "{\n",
    "    \"_id\" : 4,\n",
    "    \"name\" : {\n",
    "        \"first\" : \"Kristen\",\n",
    "        \"last\" : \"Nygaard\"\n",
    "    },\n",
    "    \"birth\" : ISODate(\"1926-08-27T04:00:00Z\"),\n",
    "    \"death\" : ISODate(\"2002-08-10T04:00:00Z\"),\n",
    "    \"contribs\" : [\n",
    "        \"OOP\",\n",
    "        \"Simula\"\n",
    "    ],\n",
    "    \"awards\" : [\n",
    "        {\n",
    "            \"award\" : \"Rosing Prize\",\n",
    "            \"year\" : 1999,\n",
    "            \"by\" : \"Norwegian Data Association\"\n",
    "        },\n",
    "        {\n",
    "            \"award\" : \"Turing Award\",\n",
    "            \"year\" : 2001,\n",
    "            \"by\" : \"ACM\"\n",
    "        },\n",
    "        {\n",
    "            \"award\" : \"IEEE John von Neumann Medal\",\n",
    "            \"year\" : 2001,\n",
    "            \"by\" : \"IEEE\"\n",
    "        }\n",
    "    ]\n",
    "},\n",
    "\n",
    "{\n",
    "    \"_id\" : 5,\n",
    "    \"name\" : {\n",
    "        \"first\" : \"Ole-Johan\",\n",
    "        \"last\" : \"Dahl\"\n",
    "    },\n",
    "    \"birth\" : ISODate(\"1931-10-12T04:00:00Z\"),\n",
    "    \"death\" : ISODate(\"2002-06-29T04:00:00Z\"),\n",
    "    \"contribs\" : [\n",
    "        \"OOP\",\n",
    "        \"Simula\"\n",
    "    ],\n",
    "    \"awards\" : [\n",
    "        {\n",
    "            \"award\" : \"Rosing Prize\",\n",
    "            \"year\" : 1999,\n",
    "            \"by\" : \"Norwegian Data Association\"\n",
    "        },\n",
    "        {\n",
    "            \"award\" : \"Turing Award\",\n",
    "            \"year\" : 2001,\n",
    "            \"by\" : \"ACM\"\n",
    "        },\n",
    "        {\n",
    "            \"award\" : \"IEEE John von Neumann Medal\",\n",
    "            \"year\" : 2001,\n",
    "            \"by\" : \"IEEE\"\n",
    "        }\n",
    "    ]\n",
    "},\n",
    "\n",
    "{\n",
    "    \"_id\" : 6,\n",
    "    \"name\" : {\n",
    "        \"first\" : \"Guido\",\n",
    "        \"last\" : \"van Rossum\"\n",
    "    },\n",
    "    \"birth\" : ISODate(\"1956-01-31T05:00:00Z\"),\n",
    "    \"contribs\" : [\n",
    "        \"Python\"\n",
    "    ],\n",
    "    \"awards\" : [\n",
    "        {\n",
    "            \"award\" : \"Award for the Advancement of Free Software\",\n",
    "            \"year\" : 2001,\n",
    "            \"by\" : \"Free Software Foundation\"\n",
    "        },\n",
    "        {\n",
    "            \"award\" : \"NLUUG Award\",\n",
    "            \"year\" : 2003,\n",
    "            \"by\" : \"NLUUG\"\n",
    "        }\n",
    "    ]\n",
    "},\n",
    "\n",
    "{\n",
    "    \"_id\" : ObjectId(\"51e062189c6ae665454e301d\"),\n",
    "    \"name\" : {\n",
    "        \"first\" : \"Dennis\",\n",
    "        \"last\" : \"Ritchie\"\n",
    "    },\n",
    "    \"birth\" : ISODate(\"1941-09-09T04:00:00Z\"),\n",
    "    \"death\" : ISODate(\"2011-10-12T04:00:00Z\"),\n",
    "    \"contribs\" : [\n",
    "        \"UNIX\",\n",
    "        \"C\"\n",
    "    ],\n",
    "    \"awards\" : [\n",
    "        {\n",
    "            \"award\" : \"Turing Award\",\n",
    "            \"year\" : 1983,\n",
    "            \"by\" : \"ACM\"\n",
    "        },\n",
    "        {\n",
    "            \"award\" : \"National Medal of Technology\",\n",
    "            \"year\" : 1998,\n",
    "            \"by\" : \"United States\"\n",
    "        },\n",
    "        {\n",
    "            \"award\" : \"Japan Prize\",\n",
    "            \"year\" : 2011,\n",
    "            \"by\" : \"The Japan Prize Foundation\"\n",
    "        }\n",
    "    ]\n",
    "},\n",
    "\n",
    "{\n",
    "    \"_id\" : 8,\n",
    "    \"name\" : {\n",
    "        \"first\" : \"Yukihiro\",\n",
    "        \"aka\" : \"Matz\",\n",
    "        \"last\" : \"Matsumoto\"\n",
    "    },\n",
    "    \"birth\" : ISODate(\"1965-04-14T04:00:00Z\"),\n",
    "    \"contribs\" : [\n",
    "        \"Ruby\"\n",
    "    ],\n",
    "    \"awards\" : [\n",
    "        {\n",
    "            \"award\" : \"Award for the Advancement of Free Software\",\n",
    "            \"year\" : \"2011\",\n",
    "            \"by\" : \"Free Software Foundation\"\n",
    "        }\n",
    "    ]\n",
    "},\n",
    "\n",
    "{\n",
    "    \"_id\" : 9,\n",
    "    \"name\" : {\n",
    "        \"first\" : \"James\",\n",
    "        \"last\" : \"Gosling\"\n",
    "    },\n",
    "    \"birth\" : ISODate(\"1955-05-19T04:00:00Z\"),\n",
    "    \"contribs\" : [\n",
    "        \"Java\"\n",
    "    ],\n",
    "    \"awards\" : [\n",
    "        {\n",
    "            \"award\" : \"The Economist Innovation Award\",\n",
    "            \"year\" : 2002,\n",
    "            \"by\" : \"The Economist\"\n",
    "        },\n",
    "        {\n",
    "            \"award\" : \"Officer of the Order of Canada\",\n",
    "            \"year\" : 2007,\n",
    "            \"by\" : \"Canada\"\n",
    "        }\n",
    "    ]\n",
    "},\n",
    "\n",
    "{\n",
    "    \"_id\" : 10,\n",
    "    \"name\" : {\n",
    "        \"first\" : \"Martin\",\n",
    "        \"last\" : \"Odersky\"\n",
    "    },\n",
    "    \"contribs\" : [\n",
    "        \"Scala\"\n",
    "    ]\n",
    "}]"
   ]
  },
  {
   "cell_type": "code",
   "execution_count": 6,
   "metadata": {},
   "outputs": [
    {
     "data": {
      "text/plain": [
       "<pymongo.results.InsertManyResult at 0x20d5dcd4288>"
      ]
     },
     "execution_count": 6,
     "metadata": {},
     "output_type": "execute_result"
    }
   ],
   "source": [
    "# bulk-insert famous people into collections 1 and 2\n",
    "collection1.insert_many(famous_people)\n",
    "collection2.insert_many(famous_people)"
   ]
  },
  {
   "cell_type": "code",
   "execution_count": 7,
   "metadata": {},
   "outputs": [
    {
     "name": "stdout",
     "output_type": "stream",
     "text": [
      "Databases:\n",
      "['admin', 'local', 'proj4', 'test']\n",
      "Collections in proj4:\n",
      "['famous-people-prob1', 'famous-people-prob2']\n",
      "Number of Docs:\n",
      "collection1 (10), collection2 (10)\n"
     ]
    }
   ],
   "source": [
    "# check db if everything added correctly\n",
    "print(\"Databases:\")\n",
    "print(client.database_names())\n",
    "\n",
    "print(\"Collections in proj4:\")\n",
    "print(db.collection_names())\n",
    "\n",
    "print(\"Number of Docs:\")\n",
    "print(\"collection1 ({}), collection2 ({})\".format(collection1.count(), collection2.count()))"
   ]
  },
  {
   "cell_type": "markdown",
   "metadata": {},
   "source": [
    "# <Center>Problem 1\n",
    "<Center>Database Modeling, Loading, & Modification"
   ]
  },
  {
   "cell_type": "code",
   "execution_count": 8,
   "metadata": {},
   "outputs": [
    {
     "name": "stdout",
     "output_type": "stream",
     "text": [
      "_id of John McCarthy should be 100: \n",
      "\n",
      "{'_id': 100, 'name': {'first': 'John', 'last': 'McCarthy'}, 'birth': datetime.datetime(1927, 9, 4, 4, 0), 'death': datetime.datetime(2011, 12, 24, 5, 0), 'contribs': ['Lisp', 'Artificial Intelligence', 'ALGOL'], 'awards': [{'award': 'Turing Award', 'year': 1971, 'by': 'ACM'}, {'award': 'Kyoto Prize', 'year': 1988, 'by': 'Inamori Foundation'}, {'award': 'National Medal of Science', 'year': 1990, 'by': 'National Science Foundation'}]}\n",
      "\n"
     ]
    }
   ],
   "source": [
    "\"\"\"\n",
    "1) Write an operation(s) that changes the _id of \n",
    "“John McCarthy” to value 100.\n",
    "\n",
    "Note: MongoDB does not allow to change _id of an already inserted document, \n",
    "thus must make new document find document we want\n",
    "\"\"\"\n",
    "\n",
    "doc = collection1.find_one({\"name\":{\"first\":\"John\",\"last\":\"McCarthy\"}})\n",
    "\n",
    "# edit _id of saved doc object\n",
    "doc['_id'] = 100\n",
    "\n",
    "# insert updated document\n",
    "collection1.insert_one(doc)\n",
    "\n",
    "# remove doc from collection with old id\n",
    "collection1.delete_one({\"name\":{\"first\":\"John\",\"last\":\"McCarthy\"}})\n",
    "\n",
    "# check if CRUD operations worked\n",
    "doc = collection1.find_one({\"name\":{\"first\":\"John\",\"last\":\"McCarthy\"}})\n",
    "print(\"_id of John McCarthy should be 100: \\n\")\n",
    "print(doc)\n",
    "print()"
   ]
  },
  {
   "cell_type": "code",
   "execution_count": 9,
   "metadata": {},
   "outputs": [
    {
     "name": "stdout",
     "output_type": "stream",
     "text": [
      "Check if _id 20 and 30 are in collections: \n",
      "\n",
      "{'_id': 20, 'name': {'first': 'Mary', 'last': 'Sally'}, 'birth': datetime.datetime(1933, 8, 27, 4, 0), 'death': datetime.datetime(1984, 11, 7, 4, 0), 'contribs': ['C++', 'Simula'], 'awards': [{'award': 'WPI Award', 'year': 1999, 'by': 'WPI'}]}\n",
      "\n",
      "{'_id': 30, 'name': {'first': 'Ming', 'last': 'Zhang'}, 'birth': datetime.datetime(1911, 4, 12, 4, 0), 'death': datetime.datetime(2000, 11, 7, 4, 0), 'contribs': ['C++', 'FP', 'Python'], 'awards': [{'award': 'WPI Award', 'year': 1960, 'by': 'WPI'}, {'award': 'Turing Award', 'year': 1960, 'by': 'ACM'}]}\n",
      "\n"
     ]
    }
   ],
   "source": [
    "\"\"\"\n",
    "2.) Write an operation(s) that inserts the \n",
    "following new records into the collection:\n",
    "\"\"\"\n",
    "# copy new records\n",
    "new_records = [{\n",
    " \"_id\" : 20,\n",
    " \"name\" : {\n",
    " \"first\" : \"Mary\",\n",
    " \"last\" : \"Sally\"\n",
    " },\n",
    " \"birth\" : ISODate(\"1933-08-27T04:00:00Z\"),\n",
    " \"death\" : ISODate(\"1984-11-07T04:00:00Z\"),\n",
    " \"contribs\" : [\n",
    " \"C++\",\n",
    " \"Simula\"\n",
    " ],\n",
    " \"awards\" : [\n",
    " {\n",
    " \"award\" : \"WPI Award\",\n",
    " \"year\" : 1999,\n",
    " \"by\" : \"WPI\"\n",
    " }\n",
    " ]\n",
    " },\n",
    " {\n",
    " \"_id\" : 30,\n",
    " \"name\" : {\n",
    " \"first\" : \"Ming\",\n",
    " \"last\" : \"Zhang\"\n",
    " },\n",
    " \"birth\" : ISODate(\"1911-04-12T04:00:00Z\"),\n",
    " \"death\" : ISODate(\"2000-11-07T04:00:00Z\"),\n",
    " \"contribs\" : [\n",
    " \"C++\",\n",
    " \"FP\",\n",
    " \"Python\",\n",
    " ],\n",
    " \"awards\" : [\n",
    " {\n",
    " \"award\" : \"WPI Award\",\n",
    " \"year\" : 1960,\n",
    " \"by\" : \"WPI\"\n",
    " },\n",
    " {\n",
    " \"award\" : \"Turing Award\",\n",
    " \"year\" : 1960,\n",
    " \"by\" : \"ACM\"\n",
    " }\n",
    " ]\n",
    "}]\n",
    "\n",
    "# insert the new records\n",
    "collection1.insert_many(new_records)\n",
    "\n",
    "# check if CRUD operations work\n",
    "print(\"Check if _id 20 and 30 are in collections: \\n\")\n",
    "docs = collection1.find( {\"_id\": {\"$in\": [20, 30]} } )\n",
    "for doc in docs:\n",
    "    print(doc)\n",
    "    print()"
   ]
  },
  {
   "cell_type": "code",
   "execution_count": 10,
   "metadata": {},
   "outputs": [
    {
     "name": "stdout",
     "output_type": "stream",
     "text": [
      "All people who got a Turing Award after 1960: \n",
      "\n",
      "{'_id': 1, 'name': {'first': 'John', 'last': 'Backus'}, 'birth': datetime.datetime(1924, 12, 3, 5, 0), 'death': datetime.datetime(2007, 3, 17, 4, 0), 'contribs': ['Fortran', 'ALGOL', 'Backus-Naur Form', 'FP'], 'awards': [{'award': 'W.W. McDowell Award', 'year': 1967, 'by': 'IEEE Computer Society'}, {'award': 'National Medal of Science', 'year': 1975, 'by': 'National Science Foundation'}, {'award': 'Turing Award', 'year': 1977, 'by': 'ACM'}, {'award': 'Draper Prize', 'year': 1993, 'by': 'National Academy of Engineering'}]}\n",
      "\n",
      "{'_id': 4, 'name': {'first': 'Kristen', 'last': 'Nygaard'}, 'birth': datetime.datetime(1926, 8, 27, 4, 0), 'death': datetime.datetime(2002, 8, 10, 4, 0), 'contribs': ['OOP', 'Simula'], 'awards': [{'award': 'Rosing Prize', 'year': 1999, 'by': 'Norwegian Data Association'}, {'award': 'Turing Award', 'year': 2001, 'by': 'ACM'}, {'award': 'IEEE John von Neumann Medal', 'year': 2001, 'by': 'IEEE'}]}\n",
      "\n",
      "{'_id': 5, 'name': {'first': 'Ole-Johan', 'last': 'Dahl'}, 'birth': datetime.datetime(1931, 10, 12, 4, 0), 'death': datetime.datetime(2002, 6, 29, 4, 0), 'contribs': ['OOP', 'Simula'], 'awards': [{'award': 'Rosing Prize', 'year': 1999, 'by': 'Norwegian Data Association'}, {'award': 'Turing Award', 'year': 2001, 'by': 'ACM'}, {'award': 'IEEE John von Neumann Medal', 'year': 2001, 'by': 'IEEE'}]}\n",
      "\n",
      "{'_id': ObjectId('51e062189c6ae665454e301d'), 'name': {'first': 'Dennis', 'last': 'Ritchie'}, 'birth': datetime.datetime(1941, 9, 9, 4, 0), 'death': datetime.datetime(2011, 10, 12, 4, 0), 'contribs': ['UNIX', 'C'], 'awards': [{'award': 'Turing Award', 'year': 1983, 'by': 'ACM'}, {'award': 'National Medal of Technology', 'year': 1998, 'by': 'United States'}, {'award': 'Japan Prize', 'year': 2011, 'by': 'The Japan Prize Foundation'}]}\n",
      "\n",
      "{'_id': 100, 'name': {'first': 'John', 'last': 'McCarthy'}, 'birth': datetime.datetime(1927, 9, 4, 4, 0), 'death': datetime.datetime(2011, 12, 24, 5, 0), 'contribs': ['Lisp', 'Artificial Intelligence', 'ALGOL'], 'awards': [{'award': 'Turing Award', 'year': 1971, 'by': 'ACM'}, {'award': 'Kyoto Prize', 'year': 1988, 'by': 'Inamori Foundation'}, {'award': 'National Medal of Science', 'year': 1990, 'by': 'National Science Foundation'}]}\n",
      "\n"
     ]
    }
   ],
   "source": [
    "\"\"\"\n",
    "3) Report all documents of people who got \n",
    "a “Turing Award” after 1960.\n",
    "\"\"\"\n",
    "# query all documents\n",
    "docs = collection1.find( {\"awards\": {\"$elemMatch\": {\"award\": \"Turing Award\", \"year\": {\"$gt\": 1960}} }} )\n",
    "\n",
    "# print the results\n",
    "print(\"All people who got a Turing Award after 1960: \\n\")\n",
    "for doc in docs:\n",
    "    print(doc)\n",
    "    print()"
   ]
  },
  {
   "cell_type": "code",
   "execution_count": 11,
   "metadata": {},
   "outputs": [
    {
     "name": "stdout",
     "output_type": "stream",
     "text": [
      "All people who got more than 2 awards: \n",
      "\n",
      "{'_id': 1, 'name': {'first': 'John', 'last': 'Backus'}, 'birth': datetime.datetime(1924, 12, 3, 5, 0), 'death': datetime.datetime(2007, 3, 17, 4, 0), 'contribs': ['Fortran', 'ALGOL', 'Backus-Naur Form', 'FP'], 'awards': [{'award': 'W.W. McDowell Award', 'year': 1967, 'by': 'IEEE Computer Society'}, {'award': 'National Medal of Science', 'year': 1975, 'by': 'National Science Foundation'}, {'award': 'Turing Award', 'year': 1977, 'by': 'ACM'}, {'award': 'Draper Prize', 'year': 1993, 'by': 'National Academy of Engineering'}]}\n",
      "\n",
      "{'_id': 3, 'name': {'first': 'Grace', 'last': 'Hopper'}, 'title': 'Rear Admiral', 'birth': datetime.datetime(1906, 12, 9, 5, 0), 'death': datetime.datetime(1992, 1, 1, 5, 0), 'contribs': ['UNIVAC', 'compiler', 'FLOW-MATIC', 'COBOL'], 'awards': [{'award': 'Computer Sciences Man of the Year', 'year': 1969, 'by': 'Data Processing Management Association'}, {'award': 'Distinguished Fellow', 'year': 1973, 'by': ' British Computer Society'}, {'award': 'W. W. McDowell Award', 'year': 1976, 'by': 'IEEE Computer Society'}, {'award': 'National Medal of Technology', 'year': 1991, 'by': 'United States'}]}\n",
      "\n",
      "{'_id': 4, 'name': {'first': 'Kristen', 'last': 'Nygaard'}, 'birth': datetime.datetime(1926, 8, 27, 4, 0), 'death': datetime.datetime(2002, 8, 10, 4, 0), 'contribs': ['OOP', 'Simula'], 'awards': [{'award': 'Rosing Prize', 'year': 1999, 'by': 'Norwegian Data Association'}, {'award': 'Turing Award', 'year': 2001, 'by': 'ACM'}, {'award': 'IEEE John von Neumann Medal', 'year': 2001, 'by': 'IEEE'}]}\n",
      "\n",
      "{'_id': 5, 'name': {'first': 'Ole-Johan', 'last': 'Dahl'}, 'birth': datetime.datetime(1931, 10, 12, 4, 0), 'death': datetime.datetime(2002, 6, 29, 4, 0), 'contribs': ['OOP', 'Simula'], 'awards': [{'award': 'Rosing Prize', 'year': 1999, 'by': 'Norwegian Data Association'}, {'award': 'Turing Award', 'year': 2001, 'by': 'ACM'}, {'award': 'IEEE John von Neumann Medal', 'year': 2001, 'by': 'IEEE'}]}\n",
      "\n",
      "{'_id': ObjectId('51e062189c6ae665454e301d'), 'name': {'first': 'Dennis', 'last': 'Ritchie'}, 'birth': datetime.datetime(1941, 9, 9, 4, 0), 'death': datetime.datetime(2011, 10, 12, 4, 0), 'contribs': ['UNIX', 'C'], 'awards': [{'award': 'Turing Award', 'year': 1983, 'by': 'ACM'}, {'award': 'National Medal of Technology', 'year': 1998, 'by': 'United States'}, {'award': 'Japan Prize', 'year': 2011, 'by': 'The Japan Prize Foundation'}]}\n",
      "\n",
      "{'_id': 100, 'name': {'first': 'John', 'last': 'McCarthy'}, 'birth': datetime.datetime(1927, 9, 4, 4, 0), 'death': datetime.datetime(2011, 12, 24, 5, 0), 'contribs': ['Lisp', 'Artificial Intelligence', 'ALGOL'], 'awards': [{'award': 'Turing Award', 'year': 1971, 'by': 'ACM'}, {'award': 'Kyoto Prize', 'year': 1988, 'by': 'Inamori Foundation'}, {'award': 'National Medal of Science', 'year': 1990, 'by': 'National Science Foundation'}]}\n",
      "\n"
     ]
    }
   ],
   "source": [
    "\"\"\"\n",
    "4) Report all people who got more than 2 awards\n",
    "\n",
    "Note: $size is the first CRUD operation to come to mind, \n",
    "but can only take a number, need to use a combination\n",
    "of $exist to see if the awards array exists and then $where \n",
    "on array length to see if >2  instead\n",
    "\"\"\"\n",
    "# $size can only take number, so need\n",
    "docs = collection1.find( {\"awards\": {\"$exists\": True}, \"$where\": \"this.awards.length > 2\"} )\n",
    "print(\"All people who got more than 2 awards: \\n\")\n",
    "for doc in docs:\n",
    "    print(doc)\n",
    "    print()"
   ]
  },
  {
   "cell_type": "code",
   "execution_count": 12,
   "metadata": {},
   "outputs": [
    {
     "name": "stdout",
     "output_type": "stream",
     "text": [
      "Updated Guido van Rossum with Python contrib: \n",
      "\n",
      "{'_id': 6, 'name': {'first': 'Guido', 'last': 'van Rossum'}, 'birth': datetime.datetime(1956, 1, 31, 5, 0), 'contribs': ['Python', 'Python'], 'awards': [{'award': 'Award for the Advancement of Free Software', 'year': 2001, 'by': 'Free Software Foundation'}, {'award': 'NLUUG Award', 'year': 2003, 'by': 'NLUUG'}]}\n"
     ]
    }
   ],
   "source": [
    "\"\"\"\n",
    "5) Update the document of “Guido van Rossum” to add\n",
    "“Python” to the contribution list.\n",
    "\n",
    "Note: Guido van Rossum already has Python as a contribution as\n",
    "a defult value, thus we decided the operation will add another occurence.\n",
    "\"\"\"\n",
    "collection1.update_one({\"name\":{\"first\":\"Guido\",\"last\":\"van Rossum\"}},\n",
    "                         {\"$push\": {\"contribs\":\"Python\"}})\n",
    "\n",
    "doc = collection1.find_one({\"name\":{\"first\":\"Guido\",\"last\":\"van Rossum\"}})\n",
    "print(\"Updated Guido van Rossum with Python contrib: \\n\")\n",
    "print(doc)"
   ]
  },
  {
   "cell_type": "code",
   "execution_count": 13,
   "metadata": {},
   "outputs": [
    {
     "name": "stdout",
     "output_type": "stream",
     "text": [
      "Mary Sally and her comments: \n",
      "\n",
      "{'_id': 20, 'name': {'first': 'Mary', 'last': 'Sally'}, 'birth': datetime.datetime(1933, 8, 27, 4, 0), 'death': datetime.datetime(1984, 11, 7, 4, 0), 'contribs': ['C++', 'Simula'], 'awards': [{'award': 'WPI Award', 'year': 1999, 'by': 'WPI'}], 'comments': ['taught in 3 universities', 'was an amazing pioneer', 'lived in Worcester']}\n"
     ]
    }
   ],
   "source": [
    "\"\"\"\n",
    "6) Insert a new field called “comments” of type array \n",
    "into document of “Mary Sally” storing the comments: \n",
    "“taught in 3 universities”, “was an amazing pioneer”, \n",
    "“lived in Worcester.”\n",
    "\"\"\"\n",
    "# make comments array\n",
    "comments = [\"taught in 3 universities\",\n",
    "            \"was an amazing pioneer\",\n",
    "            \"lived in Worcester\"]\n",
    "\n",
    "# add and update Mary Sally's comments\n",
    "collection1.update_one({\"name\":{\"first\":\"Mary\",\"last\":\"Sally\"}},\n",
    "                         { \"$set\": {\"comments\": comments} })\n",
    "\n",
    "# check if update worked\n",
    "doc = collection1.find_one({\"name\":{\"first\":\"Mary\",\"last\":\"Sally\"}})\n",
    "\n",
    "print(\"Mary Sally and her comments: \\n\")\n",
    "print(doc)"
   ]
  },
  {
   "cell_type": "code",
   "execution_count": 14,
   "metadata": {},
   "outputs": [
    {
     "name": "stdout",
     "output_type": "stream",
     "text": [
      "Mary Sally's Contributions: ['C++', 'Simula'] \n",
      "\n",
      "Contribution: C++\n",
      "People: \n",
      "{'first': 'Mary', 'last': 'Sally'}\n",
      "{'first': 'Ming', 'last': 'Zhang'}\n",
      "\n",
      "Contribution: Simula\n",
      "People: \n",
      "{'first': 'Kristen', 'last': 'Nygaard'}\n",
      "{'first': 'Ole-Johan', 'last': 'Dahl'}\n",
      "{'first': 'Mary', 'last': 'Sally'}\n",
      "\n"
     ]
    }
   ],
   "source": [
    "\"\"\"\n",
    "7) For each contribution by “Mary Sally”, say \n",
    "contribution “C”, list the people’s first and \n",
    "last names who have the same contribution “C”. \n",
    "For example, since “Mary Sally” has two contributions \n",
    "in “C++” and “Simula”, the output for her should \n",
    "be similar to: {Contribution: “C++”, People: \n",
    "[{first: “Mary”, last: “Sally”}, {first: “Ming”, \n",
    "last: “Zhang”}]},{ Contribution: “Simula”,\n",
    " … .}\n",
    "\"\"\"\n",
    "# get Mary Sally's information\n",
    "doc = collection1.find_one({\"name\":{\"first\":\"Mary\",\"last\":\"Sally\"}})\n",
    "\n",
    "# get Mary Sally's contribution list\n",
    "contribs = doc['contribs']\n",
    "print(\"Mary Sally's Contributions: {} \\n\".format(contribs))\n",
    "\n",
    "# identify people\n",
    "for contrib in contribs:\n",
    "    print(\"Contribution: {}\".format(contrib))\n",
    "    # gather all people with same contribution\n",
    "    docs = collection1.find({\"contribs\": contrib})\n",
    "    print(\"People: \")\n",
    "    for doc in docs:\n",
    "        # print out each persons name\n",
    "        print(doc['name'])\n",
    "    print()\n"
   ]
  },
  {
   "cell_type": "code",
   "execution_count": 15,
   "metadata": {},
   "outputs": [
    {
     "name": "stdout",
     "output_type": "stream",
     "text": [
      "Docs with first name that matches regex 'Jo':\n",
      "{'_id': 1, 'name': {'first': 'John', 'last': 'Backus'}, 'birth': datetime.datetime(1924, 12, 3, 5, 0), 'death': datetime.datetime(2007, 3, 17, 4, 0), 'contribs': ['Fortran', 'ALGOL', 'Backus-Naur Form', 'FP'], 'awards': [{'award': 'W.W. McDowell Award', 'year': 1967, 'by': 'IEEE Computer Society'}, {'award': 'National Medal of Science', 'year': 1975, 'by': 'National Science Foundation'}, {'award': 'Turing Award', 'year': 1977, 'by': 'ACM'}, {'award': 'Draper Prize', 'year': 1993, 'by': 'National Academy of Engineering'}]}\n",
      "\n",
      "{'_id': 5, 'name': {'first': 'Ole-Johan', 'last': 'Dahl'}, 'birth': datetime.datetime(1931, 10, 12, 4, 0), 'death': datetime.datetime(2002, 6, 29, 4, 0), 'contribs': ['OOP', 'Simula'], 'awards': [{'award': 'Rosing Prize', 'year': 1999, 'by': 'Norwegian Data Association'}, {'award': 'Turing Award', 'year': 2001, 'by': 'ACM'}, {'award': 'IEEE John von Neumann Medal', 'year': 2001, 'by': 'IEEE'}]}\n",
      "\n",
      "{'_id': 9, 'name': {'first': 'James', 'last': 'Gosling'}, 'birth': datetime.datetime(1955, 5, 19, 4, 0), 'contribs': ['Java'], 'awards': [{'award': 'The Economist Innovation Award', 'year': 2002, 'by': 'The Economist'}, {'award': 'Officer of the Order of Canada', 'year': 2007, 'by': 'Canada'}]}\n",
      "\n",
      "{'_id': 100, 'name': {'first': 'John', 'last': 'McCarthy'}, 'birth': datetime.datetime(1927, 9, 4, 4, 0), 'death': datetime.datetime(2011, 12, 24, 5, 0), 'contribs': ['Lisp', 'Artificial Intelligence', 'ALGOL'], 'awards': [{'award': 'Turing Award', 'year': 1971, 'by': 'ACM'}, {'award': 'Kyoto Prize', 'year': 1988, 'by': 'Inamori Foundation'}, {'award': 'National Medal of Science', 'year': 1990, 'by': 'National Science Foundation'}]}\n",
      "\n"
     ]
    }
   ],
   "source": [
    "\"\"\"\n",
    "8) Report all documents where the first name matches the regular expression “Jo*”, where “*” means any number of characters. \n",
    "Report the documents sorted by the last name.\n",
    "\"\"\"\n",
    "docs = collection1.find(\n",
    "    {\n",
    "        \"name.first\": { \"$regex\": \"Jo*\" }\n",
    "    }\n",
    ").sort([(\"name.last\",pymongo.ASCENDING)])\n",
    "\n",
    "# check if docs match the regex\n",
    "print(\"Docs with first name that matches regex 'Jo':\")\n",
    "for doc in docs:\n",
    "    print(doc)\n",
    "    print()"
   ]
  },
  {
   "cell_type": "code",
   "execution_count": 16,
   "metadata": {
    "scrolled": true
   },
   "outputs": [
    {
     "name": "stdout",
     "output_type": "stream",
     "text": [
      "After updating above criteria:\n",
      "\n",
      "{'_id': 30, 'name': {'first': 'Ming', 'last': 'Zhang'}, 'birth': datetime.datetime(1911, 4, 12, 4, 0), 'death': datetime.datetime(2000, 11, 7, 4, 0), 'contribs': ['C++', 'FP', 'Python'], 'awards': [{'award': 'WPI Award', 'year': 1965, 'by': 'WPI'}, {'award': 'Turing Award', 'year': 1960, 'by': 'ACM'}]}\n"
     ]
    }
   ],
   "source": [
    "\"\"\"\n",
    "9) Update the award of document_id = 30, which is given by WPI, and set the year to 1965\n",
    "\"\"\"\n",
    "collection1.update_one({\"_id\": 30, \"awards.by\": \"WPI\"}, {\"$set\": {\"awards.$.year\": 1965}})\n",
    "\n",
    "doc = collection1.find_one({\"_id\":30})\n",
    "\n",
    "print(\"After updating above criteria:\")\n",
    "print()\n",
    "print(doc)"
   ]
  },
  {
   "cell_type": "code",
   "execution_count": 17,
   "metadata": {},
   "outputs": [
    {
     "name": "stdout",
     "output_type": "stream",
     "text": [
      "After updating above criteria:\n",
      "\n",
      "{'_id': 30, 'name': {'first': 'Ming', 'last': 'Zhang'}, 'birth': datetime.datetime(1911, 4, 12, 4, 0), 'death': datetime.datetime(2000, 11, 7, 4, 0), 'contribs': ['C++', 'FP', 'Python', 'UNIVAC', 'compiler', 'FLOW-MATIC', 'COBOL'], 'awards': [{'award': 'WPI Award', 'year': 1965, 'by': 'WPI'}, {'award': 'Turing Award', 'year': 1960, 'by': 'ACM'}]}\n"
     ]
    }
   ],
   "source": [
    "\"\"\"\n",
    "10) Add(copy) all the contribution of doucment_id = 3 to that of document_id = 30\n",
    "\"\"\"\n",
    "contributions = collection1.find_one({\"_id\":3})['contribs']\n",
    "for n in contributions:\n",
    "    collection1.update_one({\"_id\": 30}, {\"$push\": {\"contribs\": n}})\n",
    "    \n",
    "print(\"After updating above criteria:\")\n",
    "print()\n",
    "print(collection1.find_one({\"_id\": 30}))"
   ]
  },
  {
   "cell_type": "markdown",
   "metadata": {},
   "source": [
    "# <Center> Problem 2: \n",
    "<Center> Advanced Query Specfication in MongoDB"
   ]
  },
  {
   "cell_type": "code",
   "execution_count": 18,
   "metadata": {},
   "outputs": [
    {
     "name": "stdout",
     "output_type": "stream",
     "text": [
      "Default famous people: \n",
      "\n",
      "{'_id': 1, 'name': {'first': 'John', 'last': 'Backus'}, 'birth': datetime.datetime(1924, 12, 3, 5, 0), 'death': datetime.datetime(2007, 3, 17, 4, 0), 'contribs': ['Fortran', 'ALGOL', 'Backus-Naur Form', 'FP'], 'awards': [{'award': 'W.W. McDowell Award', 'year': 1967, 'by': 'IEEE Computer Society'}, {'award': 'National Medal of Science', 'year': 1975, 'by': 'National Science Foundation'}, {'award': 'Turing Award', 'year': 1977, 'by': 'ACM'}, {'award': 'Draper Prize', 'year': 1993, 'by': 'National Academy of Engineering'}]}\n",
      "\n",
      "{'_id': ObjectId('51df07b094c6acd67e492f41'), 'name': {'first': 'John', 'last': 'McCarthy'}, 'birth': datetime.datetime(1927, 9, 4, 4, 0), 'death': datetime.datetime(2011, 12, 24, 5, 0), 'contribs': ['Lisp', 'Artificial Intelligence', 'ALGOL'], 'awards': [{'award': 'Turing Award', 'year': 1971, 'by': 'ACM'}, {'award': 'Kyoto Prize', 'year': 1988, 'by': 'Inamori Foundation'}, {'award': 'National Medal of Science', 'year': 1990, 'by': 'National Science Foundation'}]}\n",
      "\n",
      "{'_id': 3, 'name': {'first': 'Grace', 'last': 'Hopper'}, 'title': 'Rear Admiral', 'birth': datetime.datetime(1906, 12, 9, 5, 0), 'death': datetime.datetime(1992, 1, 1, 5, 0), 'contribs': ['UNIVAC', 'compiler', 'FLOW-MATIC', 'COBOL'], 'awards': [{'award': 'Computer Sciences Man of the Year', 'year': 1969, 'by': 'Data Processing Management Association'}, {'award': 'Distinguished Fellow', 'year': 1973, 'by': ' British Computer Society'}, {'award': 'W. W. McDowell Award', 'year': 1976, 'by': 'IEEE Computer Society'}, {'award': 'National Medal of Technology', 'year': 1991, 'by': 'United States'}]}\n",
      "\n",
      "{'_id': 4, 'name': {'first': 'Kristen', 'last': 'Nygaard'}, 'birth': datetime.datetime(1926, 8, 27, 4, 0), 'death': datetime.datetime(2002, 8, 10, 4, 0), 'contribs': ['OOP', 'Simula'], 'awards': [{'award': 'Rosing Prize', 'year': 1999, 'by': 'Norwegian Data Association'}, {'award': 'Turing Award', 'year': 2001, 'by': 'ACM'}, {'award': 'IEEE John von Neumann Medal', 'year': 2001, 'by': 'IEEE'}]}\n",
      "\n",
      "{'_id': 5, 'name': {'first': 'Ole-Johan', 'last': 'Dahl'}, 'birth': datetime.datetime(1931, 10, 12, 4, 0), 'death': datetime.datetime(2002, 6, 29, 4, 0), 'contribs': ['OOP', 'Simula'], 'awards': [{'award': 'Rosing Prize', 'year': 1999, 'by': 'Norwegian Data Association'}, {'award': 'Turing Award', 'year': 2001, 'by': 'ACM'}, {'award': 'IEEE John von Neumann Medal', 'year': 2001, 'by': 'IEEE'}]}\n",
      "\n",
      "{'_id': 6, 'name': {'first': 'Guido', 'last': 'van Rossum'}, 'birth': datetime.datetime(1956, 1, 31, 5, 0), 'contribs': ['Python'], 'awards': [{'award': 'Award for the Advancement of Free Software', 'year': 2001, 'by': 'Free Software Foundation'}, {'award': 'NLUUG Award', 'year': 2003, 'by': 'NLUUG'}]}\n",
      "\n",
      "{'_id': ObjectId('51e062189c6ae665454e301d'), 'name': {'first': 'Dennis', 'last': 'Ritchie'}, 'birth': datetime.datetime(1941, 9, 9, 4, 0), 'death': datetime.datetime(2011, 10, 12, 4, 0), 'contribs': ['UNIX', 'C'], 'awards': [{'award': 'Turing Award', 'year': 1983, 'by': 'ACM'}, {'award': 'National Medal of Technology', 'year': 1998, 'by': 'United States'}, {'award': 'Japan Prize', 'year': 2011, 'by': 'The Japan Prize Foundation'}]}\n",
      "\n",
      "{'_id': 8, 'name': {'first': 'Yukihiro', 'aka': 'Matz', 'last': 'Matsumoto'}, 'birth': datetime.datetime(1965, 4, 14, 4, 0), 'contribs': ['Ruby'], 'awards': [{'award': 'Award for the Advancement of Free Software', 'year': '2011', 'by': 'Free Software Foundation'}]}\n",
      "\n",
      "{'_id': 9, 'name': {'first': 'James', 'last': 'Gosling'}, 'birth': datetime.datetime(1955, 5, 19, 4, 0), 'contribs': ['Java'], 'awards': [{'award': 'The Economist Innovation Award', 'year': 2002, 'by': 'The Economist'}, {'award': 'Officer of the Order of Canada', 'year': 2007, 'by': 'Canada'}]}\n",
      "\n",
      "{'_id': 10, 'name': {'first': 'Martin', 'last': 'Odersky'}, 'contribs': ['Scala']}\n",
      "\n"
     ]
    }
   ],
   "source": [
    "\"\"\"\n",
    "Show that the collection we are working with is the default collection of famous people\n",
    "\"\"\"\n",
    "docs = collection2.find()\n",
    "\n",
    "print(\"Default famous people: \\n\")\n",
    "\n",
    "for doc in docs:\n",
    "    print(doc)\n",
    "    print()"
   ]
  },
  {
   "cell_type": "code",
   "execution_count": 19,
   "metadata": {
    "scrolled": false
   },
   "outputs": [
    {
     "name": "stdout",
     "output_type": "stream",
     "text": [
      "Grouped awards with array of years given:\n",
      "\n",
      "{'_id': 'Officer of the Order of Canada', 'years': [{'year': 2007}]}\n",
      "\n",
      "{'_id': 'The Economist Innovation Award', 'years': [{'year': 2002}]}\n",
      "\n",
      "{'_id': 'Japan Prize', 'years': [{'year': 2011}]}\n",
      "\n",
      "{'_id': 'Award for the Advancement of Free Software', 'years': [{'year': 2001}, {'year': '2011'}]}\n",
      "\n",
      "{'_id': 'IEEE John von Neumann Medal', 'years': [{'year': 2001}, {'year': 2001}]}\n",
      "\n",
      "{'_id': 'Rosing Prize', 'years': [{'year': 1999}, {'year': 1999}]}\n",
      "\n",
      "{'_id': 'National Medal of Technology', 'years': [{'year': 1991}, {'year': 1998}]}\n",
      "\n",
      "{'_id': 'Computer Sciences Man of the Year', 'years': [{'year': 1969}]}\n",
      "\n",
      "{'_id': 'W. W. McDowell Award', 'years': [{'year': 1976}]}\n",
      "\n",
      "{'_id': 'Distinguished Fellow', 'years': [{'year': 1973}]}\n",
      "\n",
      "{'_id': 'Kyoto Prize', 'years': [{'year': 1988}]}\n",
      "\n",
      "{'_id': 'Draper Prize', 'years': [{'year': 1993}]}\n",
      "\n",
      "{'_id': 'National Medal of Science', 'years': [{'year': 1975}, {'year': 1990}]}\n",
      "\n",
      "{'_id': 'NLUUG Award', 'years': [{'year': 2003}]}\n",
      "\n",
      "{'_id': 'Turing Award', 'years': [{'year': 1977}, {'year': 1971}, {'year': 2001}, {'year': 2001}, {'year': 1983}]}\n",
      "\n",
      "{'_id': 'W.W. McDowell Award', 'years': [{'year': 1967}]}\n"
     ]
    }
   ],
   "source": [
    "\"\"\"\n",
    "1) Write an aggregation query that groups by the award name, i.e., the “award” field inside the “awards” array, and foreach award\n",
    "reports an array of the years for when this award has been given\n",
    "\"\"\"\n",
    "docs = collection2.aggregate([\n",
    "    {'$unwind': \"$awards\"},\n",
    "\n",
    "    {'$group': {\n",
    "         '_id': \"$awards.award\",\n",
    "         'years':{'$push': {\n",
    "             'year':\"$awards.year\"\n",
    "         }},\n",
    "    }}\n",
    "])\n",
    "print(\"Grouped awards with array of years given:\")\n",
    "for doc in docs:\n",
    "    print()\n",
    "    print(doc)"
   ]
  },
  {
   "cell_type": "code",
   "execution_count": 20,
   "metadata": {
    "scrolled": true
   },
   "outputs": [
    {
     "name": "stdout",
     "output_type": "stream",
     "text": [
      "Aggregation by birth year: \n",
      "\n",
      "{'_id': 0, 'count': 1}\n",
      "{'_id': 1955, 'count': 1}\n",
      "{'_id': 1965, 'count': 1}\n",
      "{'_id': 1941, 'count': 1}\n",
      "{'_id': 1956, 'count': 1}\n",
      "{'_id': 1931, 'count': 1}\n",
      "{'_id': 1926, 'count': 1}\n",
      "{'_id': 1924, 'count': 1}\n",
      "{'_id': 1906, 'count': 1}\n",
      "{'_id': 1927, 'count': 1}\n"
     ]
    }
   ],
   "source": [
    "\"\"\"\n",
    "2) Write an aggregation query that groups by the birth year, i.e., \n",
    "the year within the “birth” field, and then report the count\n",
    "for each birth year\n",
    "\n",
    "Note: We ran into a well known error in MongoDB on Windows, \n",
    "that it does not support dates before 1970. Below is the official form:\n",
    "\n",
    "https://jira.mongodb.org/browse/SERVER-12816\n",
    "\n",
    "In turn, the easiest way was to convert birth date (as a datetime \n",
    "object) to just an integer reflecting the year.\n",
    "\"\"\"\n",
    "\n",
    "# iterate through each doc in collection\n",
    "for doc in collection2.find():\n",
    "    #print(doc)\n",
    "    try: # grab date object, extract birth year, and update\n",
    "        _id = doc['_id']\n",
    "        birth_year = doc['birth'].year\n",
    "        \n",
    "        collection2.update_one({\"_id\": _id}, \n",
    "                               {\"$push\": {\"birth_year\": birth_year}})\n",
    "    except: # doesnt have a birth field\n",
    "        pass\n",
    "\n",
    "\n",
    "## older aggregation that failed\n",
    "# docs = collection2.aggregate([{\n",
    "#     '$group': {\n",
    "#         '_id': { '$year': \"$birth\" },\n",
    "#         'count':{'$sum':1}\n",
    "#     }\n",
    "# }])\n",
    "# for doc in docs:\n",
    "#     print(doc)\n",
    "    \n",
    "\n",
    "# conduct aggregation query\n",
    "docs = collection2.aggregate([{\n",
    "    '$group': {\n",
    "        '_id': { '$sum': \"$birth_year\" },\n",
    "        'count':{'$sum':1}\n",
    "    }\n",
    "}])\n",
    "\n",
    "print(\"Aggregation by birth year: \\n\")\n",
    "for doc in docs:\n",
    "    print(doc)"
   ]
  },
  {
   "cell_type": "code",
   "execution_count": 21,
   "metadata": {},
   "outputs": [
    {
     "name": "stdout",
     "output_type": "stream",
     "text": [
      "Docs with smallest and largest _ids: \n",
      "\n",
      "{'_id': 1, 'name': {'first': 'John', 'last': 'Backus'}, 'birth': datetime.datetime(1924, 12, 3, 5, 0), 'death': datetime.datetime(2007, 3, 17, 4, 0), 'contribs': ['Fortran', 'ALGOL', 'Backus-Naur Form', 'FP'], 'awards': [{'award': 'W.W. McDowell Award', 'year': 1967, 'by': 'IEEE Computer Society'}, {'award': 'National Medal of Science', 'year': 1975, 'by': 'National Science Foundation'}, {'award': 'Turing Award', 'year': 1977, 'by': 'ACM'}, {'award': 'Draper Prize', 'year': 1993, 'by': 'National Academy of Engineering'}], 'birth_year': [1924]}\n",
      "\n",
      "{'_id': ObjectId('51e062189c6ae665454e301d'), 'name': {'first': 'Dennis', 'last': 'Ritchie'}, 'birth': datetime.datetime(1941, 9, 9, 4, 0), 'death': datetime.datetime(2011, 10, 12, 4, 0), 'contribs': ['UNIX', 'C'], 'awards': [{'award': 'Turing Award', 'year': 1983, 'by': 'ACM'}, {'award': 'National Medal of Technology', 'year': 1998, 'by': 'United States'}, {'award': 'Japan Prize', 'year': 2011, 'by': 'The Japan Prize Foundation'}], 'birth_year': [1941]}\n"
     ]
    }
   ],
   "source": [
    "\"\"\"\n",
    "3) Report the document with the smallest and largest _ids.\n",
    "\n",
    "Note: This question is a bit ambigous. For one, ids here are either \n",
    "an integer or an object id. Comparing integers to object ids is not\n",
    "straight forward. We therefore let the default sorting method \n",
    "(pymongo.ASCENDING) to do the comparison for us (it seems it sorts by\n",
    "integer id and then by the string of the object ids).\n",
    "\"\"\"\n",
    "# grab all ids and sort them\n",
    "docs = collection2.find().sort([(\"_id\",pymongo.ASCENDING)])\n",
    "\n",
    "\n",
    "print(\"Docs with smallest and largest _ids: \\n\")\n",
    "print(docs[0]) # first\n",
    "print()\n",
    "print(docs[docs.count() - 1]) #last"
   ]
  },
  {
   "cell_type": "code",
   "execution_count": 22,
   "metadata": {},
   "outputs": [
    {
     "name": "stdout",
     "output_type": "stream",
     "text": [
      "Documents with either 'National Medial' or 'Turing': \n",
      "\n",
      "{'_id': 4, 'name': {'first': 'Kristen', 'last': 'Nygaard'}, 'birth': datetime.datetime(1926, 8, 27, 4, 0), 'death': datetime.datetime(2002, 8, 10, 4, 0), 'contribs': ['OOP', 'Simula'], 'awards': [{'award': 'Rosing Prize', 'year': 1999, 'by': 'Norwegian Data Association'}, {'award': 'Turing Award', 'year': 2001, 'by': 'ACM'}, {'award': 'IEEE John von Neumann Medal', 'year': 2001, 'by': 'IEEE'}], 'birth_year': [1926]}\n",
      "\n",
      "{'_id': 5, 'name': {'first': 'Ole-Johan', 'last': 'Dahl'}, 'birth': datetime.datetime(1931, 10, 12, 4, 0), 'death': datetime.datetime(2002, 6, 29, 4, 0), 'contribs': ['OOP', 'Simula'], 'awards': [{'award': 'Rosing Prize', 'year': 1999, 'by': 'Norwegian Data Association'}, {'award': 'Turing Award', 'year': 2001, 'by': 'ACM'}, {'award': 'IEEE John von Neumann Medal', 'year': 2001, 'by': 'IEEE'}], 'birth_year': [1931]}\n",
      "\n",
      "{'_id': 1, 'name': {'first': 'John', 'last': 'Backus'}, 'birth': datetime.datetime(1924, 12, 3, 5, 0), 'death': datetime.datetime(2007, 3, 17, 4, 0), 'contribs': ['Fortran', 'ALGOL', 'Backus-Naur Form', 'FP'], 'awards': [{'award': 'W.W. McDowell Award', 'year': 1967, 'by': 'IEEE Computer Society'}, {'award': 'National Medal of Science', 'year': 1975, 'by': 'National Science Foundation'}, {'award': 'Turing Award', 'year': 1977, 'by': 'ACM'}, {'award': 'Draper Prize', 'year': 1993, 'by': 'National Academy of Engineering'}], 'birth_year': [1924]}\n",
      "\n",
      "{'_id': ObjectId('51df07b094c6acd67e492f41'), 'name': {'first': 'John', 'last': 'McCarthy'}, 'birth': datetime.datetime(1927, 9, 4, 4, 0), 'death': datetime.datetime(2011, 12, 24, 5, 0), 'contribs': ['Lisp', 'Artificial Intelligence', 'ALGOL'], 'awards': [{'award': 'Turing Award', 'year': 1971, 'by': 'ACM'}, {'award': 'Kyoto Prize', 'year': 1988, 'by': 'Inamori Foundation'}, {'award': 'National Medal of Science', 'year': 1990, 'by': 'National Science Foundation'}], 'birth_year': [1927]}\n",
      "\n",
      "{'_id': 3, 'name': {'first': 'Grace', 'last': 'Hopper'}, 'title': 'Rear Admiral', 'birth': datetime.datetime(1906, 12, 9, 5, 0), 'death': datetime.datetime(1992, 1, 1, 5, 0), 'contribs': ['UNIVAC', 'compiler', 'FLOW-MATIC', 'COBOL'], 'awards': [{'award': 'Computer Sciences Man of the Year', 'year': 1969, 'by': 'Data Processing Management Association'}, {'award': 'Distinguished Fellow', 'year': 1973, 'by': ' British Computer Society'}, {'award': 'W. W. McDowell Award', 'year': 1976, 'by': 'IEEE Computer Society'}, {'award': 'National Medal of Technology', 'year': 1991, 'by': 'United States'}], 'birth_year': [1906]}\n",
      "\n",
      "{'_id': ObjectId('51e062189c6ae665454e301d'), 'name': {'first': 'Dennis', 'last': 'Ritchie'}, 'birth': datetime.datetime(1941, 9, 9, 4, 0), 'death': datetime.datetime(2011, 10, 12, 4, 0), 'contribs': ['UNIX', 'C'], 'awards': [{'award': 'Turing Award', 'year': 1983, 'by': 'ACM'}, {'award': 'National Medal of Technology', 'year': 1998, 'by': 'United States'}, {'award': 'Japan Prize', 'year': 2011, 'by': 'The Japan Prize Foundation'}], 'birth_year': [1941]}\n",
      "\n"
     ]
    }
   ],
   "source": [
    "\"\"\"\n",
    "4) Search for and report all documents containing either “Turing” \n",
    "or “National Medal” as text substring. (Hint:  Use $text operator \n",
    "to represent the string search).\n",
    "\"\"\"\n",
    "# drop indexes for testing purposes\n",
    "collection2.drop_indexes()\n",
    "\n",
    "# create index on award text\n",
    "collection2.create_index(\n",
    "    [\n",
    "        ('awards.award','text')\n",
    "    ])\n",
    "\n",
    "# double check index was correct\n",
    "# collection2.index_information()\n",
    "\n",
    "# search over text index for key phrases\n",
    "docs = collection2.find({'$text':\n",
    "                         {'$search':\"/National Medal|Turing/\"}})\n",
    "# check documents were correct\n",
    "print(\"Documents with either 'National Medial' or 'Turing': \\n\")\n",
    "for doc in docs:\n",
    "    print(doc)\n",
    "    print()"
   ]
  },
  {
   "cell_type": "markdown",
   "metadata": {},
   "source": [
    "# <center>Problem 3\n",
    "<center> Parent-Child Relationships & Referencing"
   ]
  },
  {
   "cell_type": "code",
   "execution_count": 23,
   "metadata": {},
   "outputs": [
    {
     "data": {
      "text/plain": [
       "{'code': 26,\n",
       " 'codeName': 'NamespaceNotFound',\n",
       " 'errmsg': 'ns not found',\n",
       " 'ok': 0.0}"
      ]
     },
     "execution_count": 23,
     "metadata": {},
     "output_type": "execute_result"
    }
   ],
   "source": [
    "# drop tree collections for testing purposes if already created\n",
    "db.drop_collection('Tree1')\n",
    "db.drop_collection('Tree2')"
   ]
  },
  {
   "cell_type": "markdown",
   "metadata": {},
   "source": [
    "## Partent - Referencing Model"
   ]
  },
  {
   "cell_type": "code",
   "execution_count": 24,
   "metadata": {},
   "outputs": [
    {
     "data": {
      "text/plain": [
       "<pymongo.results.InsertOneResult at 0x20d5dcde208>"
      ]
     },
     "execution_count": 24,
     "metadata": {},
     "output_type": "execute_result"
    }
   ],
   "source": [
    "\"\"\"\n",
    "Create relationships as depicted in instructions\n",
    "\"\"\"\n",
    "db.Tree1.insert_one({'_id':\"MongoDB\",'parent':\"Databases\"})\n",
    "db.Tree1.insert_one({'_id':\"dbm\", 'parent':\"Databases\"})\n",
    "db.Tree1.insert_one({'_id':\"Databases\", 'parent':\"Programming\"})\n",
    "db.Tree1.insert_one({'_id':\"Languages\", 'parent':\"Programming\"})\n",
    "db.Tree1.insert_one({'_id':\"Programming\", 'parent':\"Books\"})\n",
    "db.Tree1.insert_one({'_id':\"Books\"})"
   ]
  },
  {
   "cell_type": "code",
   "execution_count": 25,
   "metadata": {},
   "outputs": [
    {
     "name": "stdout",
     "output_type": "stream",
     "text": [
      "Ancestors of MongoDB:\n",
      "[{'Name': 'Databases', 'Level': 1}, {'Name': 'Programming', 'Level': 2}, {'Name': 'Books', 'Level': 3}]\n"
     ]
    }
   ],
   "source": [
    "\"\"\"\n",
    "1) Write a query to report the ancestors of \"MongoDB\", returning \n",
    "as output an array\n",
    "\"\"\"\n",
    "# initate results array to hold results\n",
    "results=[]\n",
    "\n",
    "# get the MongoDB ndoe\n",
    "curr=db.Tree1.find_one({'_id':\"MongoDB\"})\n",
    "\n",
    "# set starting level\n",
    "level = 1\n",
    "\n",
    "# walk the tree\n",
    "while len(curr) > 1 :\n",
    "    results.append({\"Name\":curr['parent'], \"Level\": level})\n",
    "    curr = db.Tree1.find_one({'_id':curr['parent']})\n",
    "    level += 1\n",
    "    \n",
    "print(\"Ancestors of MongoDB:\")\n",
    "print(results)"
   ]
  },
  {
   "cell_type": "code",
   "execution_count": 26,
   "metadata": {},
   "outputs": [
    {
     "name": "stdout",
     "output_type": "stream",
     "text": [
      "Height of tree (should produce 4):\n",
      "4\n"
     ]
    }
   ],
   "source": [
    "\"\"\"\n",
    "2) Given only the root node, i.e., _id = “Books”, write a \n",
    "query that reports the height of the tree. It the above \n",
    "case, this would return 4.\n",
    "\"\"\"\n",
    "\n",
    "# general function for giving height of a tree given a root\n",
    "def get_height(root, height):\n",
    "    children = db.Tree1.find({'parent':root})\n",
    "    maxH = height\n",
    "    for child in children:\n",
    "        maxH = max(get_height(child['_id'],height+1), maxH)\n",
    "    return maxH\n",
    "\n",
    "print(\"Height of tree (should produce 4):\")\n",
    "print(get_height(\"Books\",1))\n"
   ]
  },
  {
   "cell_type": "markdown",
   "metadata": {},
   "source": [
    "## Children_referencing model"
   ]
  },
  {
   "cell_type": "code",
   "execution_count": 27,
   "metadata": {},
   "outputs": [
    {
     "data": {
      "text/plain": [
       "<pymongo.results.InsertOneResult at 0x1e1b6d851c8>"
      ]
     },
     "execution_count": 27,
     "metadata": {},
     "output_type": "execute_result"
    }
   ],
   "source": [
    "#Create the model\n",
    "db.Tree2.insert_one({'_id':\"MongoDB\", 'children':[]})\n",
    "db.Tree2.insert_one({'_id':\"dbm\", 'children':[]})\n",
    "db.Tree2.insert_one({'_id':\"Databases\", 'children':[\"MongoDB\",\"dbm\"]})\n",
    "db.Tree2.insert_one({'_id':\"Languages\", 'children':[]})\n",
    "db.Tree2.insert_one({'_id':\"Programming\", 'children':[\"Databases\",\"Languages\"]})\n",
    "db.Tree2.insert_one({'_id':\"Books\", 'children':[\"Programming\"]})"
   ]
  },
  {
   "cell_type": "code",
   "execution_count": 28,
   "metadata": {},
   "outputs": [
    {
     "name": "stdout",
     "output_type": "stream",
     "text": [
      "Parent of MongoDB:\n",
      "{'_id': 'Databases', 'children': ['MongoDB', 'dbm']}\n"
     ]
    }
   ],
   "source": [
    "\"\"\"\n",
    "1) Write a query to report the parent of \"MongoDB\"\n",
    "\"\"\"\n",
    "print(\"Parent of MongoDB:\")\n",
    "print(db.Tree2.find_one({'children':'MongoDB'}))"
   ]
  },
  {
   "cell_type": "code",
   "execution_count": 29,
   "metadata": {},
   "outputs": [
    {
     "name": "stdout",
     "output_type": "stream",
     "text": [
      "Descendants of Programming:\n",
      "['Databases', 'MongoDB', 'dbm', 'Languages']\n"
     ]
    }
   ],
   "source": [
    "\"\"\"\n",
    "2) Write  a  query  to  report  the descendants of “Programming”. \n",
    "The output should be an array containing values \n",
    "[“Languages”, “Databases”, “MongoDB”, “dbm”]\n",
    "\"\"\"\n",
    "# intitiate results array to hold results\n",
    "result = []\n",
    "\n",
    "# function to get decendants given root\n",
    "def get_des(root, result):\n",
    "    children = db.Tree2.find_one({'_id':root})['children']\n",
    "    for child in children:\n",
    "        result.append(child)\n",
    "        get_des(child,result)\n",
    "get_des(\"Programming\", result)\n",
    "\n",
    "print(\"Descendants of Programming:\")\n",
    "print(result)"
   ]
  },
  {
   "cell_type": "code",
   "execution_count": 30,
   "metadata": {},
   "outputs": [
    {
     "name": "stdout",
     "output_type": "stream",
     "text": [
      "Siblings of Databases:\n",
      "['Languages']\n"
     ]
    }
   ],
   "source": [
    "\"\"\"\n",
    "Write a query to report the siblings of  “Databases”. \n",
    "\"\"\"\n",
    "# function to get siblings\n",
    "def get_sib(curr): \n",
    "    children = db.Tree2.find_one({'children':curr})['children']\n",
    "    children.remove(curr)\n",
    "    return children\n",
    "print(\"Siblings of Databases:\")\n",
    "print(get_sib(\"Databases\"))"
   ]
  },
  {
   "cell_type": "code",
   "execution_count": null,
   "metadata": {
    "collapsed": true
   },
   "outputs": [],
   "source": []
  }
 ],
 "metadata": {
  "kernelspec": {
   "display_name": "Python 3",
   "language": "python",
   "name": "python3"
  },
  "language_info": {
   "codemirror_mode": {
    "name": "ipython",
    "version": 3
   },
   "file_extension": ".py",
   "mimetype": "text/x-python",
   "name": "python",
   "nbconvert_exporter": "python",
   "pygments_lexer": "ipython3",
   "version": "3.6.3"
  }
 },
 "nbformat": 4,
 "nbformat_minor": 2
}
