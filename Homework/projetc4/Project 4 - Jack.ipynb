{
 "cells": [
  {
   "cell_type": "markdown",
   "metadata": {},
   "source": [
    "# <center>Project 4 -- MongoDB\n"
   ]
  },
  {
   "cell_type": "code",
   "execution_count": 1,
   "metadata": {
    "collapsed": true
   },
   "outputs": [],
   "source": [
    "## import mongoDB and start client\n",
    "import pymongo\n",
    "from bson.objectid import ObjectId \n",
    "client = pymongo.MongoClient() # default port"
   ]
  },
  {
   "cell_type": "code",
   "execution_count": 2,
   "metadata": {},
   "outputs": [
    {
     "name": "stdout",
     "output_type": "stream",
     "text": [
      "Database (proj4) erased\n"
     ]
    }
   ],
   "source": [
    "## drop_database (remove everything to start fresh) for testing purposes\n",
    "try:\n",
    "    client.drop_database('proj4')\n",
    "    print('Database (proj4) erased')\n",
    "except:\n",
    "    print('Database (proj4) is empty')"
   ]
  },
  {
   "cell_type": "code",
   "execution_count": 3,
   "metadata": {
    "collapsed": true
   },
   "outputs": [],
   "source": [
    "# create empty db called 'proj4'\n",
    "db = client['proj4']\n",
    "\n",
    "# create famous-people collection for part 1\n",
    "collection1 = db['famous-people-prob1']\n",
    "\n",
    "# create famous-people collection for part 2\n",
    "collection2 = db['famous-people-prob2']"
   ]
  },
  {
   "cell_type": "code",
   "execution_count": 4,
   "metadata": {
    "collapsed": true
   },
   "outputs": [],
   "source": [
    "## ISODATE is a date datatype for Mongoshell (Java datatype), python doesnt \n",
    "# recognize this date type, so make function that converts to python datetime object\n",
    "import dateutil\n",
    "def ISODate(date_string):\n",
    "    \"\"\"\n",
    "    Convert the date string originally \n",
    "    input through ISODate to Python date\n",
    "    \"\"\"\n",
    "    return dateutil.parser.parse(date_string)"
   ]
  },
  {
   "cell_type": "code",
   "execution_count": 5,
   "metadata": {
    "collapsed": true
   },
   "outputs": [],
   "source": [
    "# 10 famous people copied from: https://docs.mongodb.com/manual/reference/bios-example-collection/\n",
    "famous_people = [{\n",
    "    \"_id\" : 1,\n",
    "    \"name\" : {\n",
    "        \"first\" : \"John\",\n",
    "        \"last\" : \"Backus\"\n",
    "    },\n",
    "    \"birth\" : ISODate(\"1924-12-03T05:00:00Z\"),\n",
    "    \"death\" : ISODate(\"2007-03-17T04:00:00Z\"),\n",
    "    \"contribs\" : [\n",
    "        \"Fortran\",\n",
    "        \"ALGOL\",\n",
    "        \"Backus-Naur Form\",\n",
    "        \"FP\"\n",
    "    ],\n",
    "    \"awards\" : [\n",
    "        {\n",
    "            \"award\" : \"W.W. McDowell Award\",\n",
    "            \"year\" : 1967,\n",
    "            \"by\" : \"IEEE Computer Society\"\n",
    "        },\n",
    "        {\n",
    "            \"award\" : \"National Medal of Science\",\n",
    "            \"year\" : 1975,\n",
    "            \"by\" : \"National Science Foundation\"\n",
    "        },\n",
    "        {\n",
    "            \"award\" : \"Turing Award\",\n",
    "            \"year\" : 1977,\n",
    "            \"by\" : \"ACM\"\n",
    "        },\n",
    "        {\n",
    "            \"award\" : \"Draper Prize\",\n",
    "            \"year\" : 1993,\n",
    "            \"by\" : \"National Academy of Engineering\"\n",
    "        }\n",
    "    ]\n",
    "},\n",
    "\n",
    "{\n",
    "    \"_id\" : ObjectId(\"51df07b094c6acd67e492f41\"),\n",
    "    \"name\" : {\n",
    "        \"first\" : \"John\",\n",
    "        \"last\" : \"McCarthy\"\n",
    "    },\n",
    "    \"birth\" : ISODate(\"1927-09-04T04:00:00Z\"),\n",
    "    \"death\" : ISODate(\"2011-12-24T05:00:00Z\"),\n",
    "    \"contribs\" : [\n",
    "        \"Lisp\",\n",
    "        \"Artificial Intelligence\",\n",
    "        \"ALGOL\"\n",
    "    ],\n",
    "    \"awards\" : [\n",
    "        {\n",
    "            \"award\" : \"Turing Award\",\n",
    "            \"year\" : 1971,\n",
    "            \"by\" : \"ACM\"\n",
    "        },\n",
    "        {\n",
    "            \"award\" : \"Kyoto Prize\",\n",
    "            \"year\" : 1988,\n",
    "            \"by\" : \"Inamori Foundation\"\n",
    "        },\n",
    "        {\n",
    "            \"award\" : \"National Medal of Science\",\n",
    "            \"year\" : 1990,\n",
    "            \"by\" : \"National Science Foundation\"\n",
    "        }\n",
    "    ]\n",
    "},\n",
    "\n",
    "{\n",
    "    \"_id\" : 3,\n",
    "    \"name\" : {\n",
    "        \"first\" : \"Grace\",\n",
    "        \"last\" : \"Hopper\"\n",
    "    },\n",
    "    \"title\" : \"Rear Admiral\",\n",
    "    \"birth\" : ISODate(\"1906-12-09T05:00:00Z\"),\n",
    "    \"death\" : ISODate(\"1992-01-01T05:00:00Z\"),\n",
    "    \"contribs\" : [\n",
    "        \"UNIVAC\",\n",
    "        \"compiler\",\n",
    "        \"FLOW-MATIC\",\n",
    "        \"COBOL\"\n",
    "    ],\n",
    "    \"awards\" : [\n",
    "        {\n",
    "            \"award\" : \"Computer Sciences Man of the Year\",\n",
    "            \"year\" : 1969,\n",
    "            \"by\" : \"Data Processing Management Association\"\n",
    "        },\n",
    "        {\n",
    "            \"award\" : \"Distinguished Fellow\",\n",
    "            \"year\" : 1973,\n",
    "            \"by\" : \" British Computer Society\"\n",
    "        },\n",
    "        {\n",
    "            \"award\" : \"W. W. McDowell Award\",\n",
    "            \"year\" : 1976,\n",
    "            \"by\" : \"IEEE Computer Society\"\n",
    "        },\n",
    "        {\n",
    "            \"award\" : \"National Medal of Technology\",\n",
    "            \"year\" : 1991,\n",
    "            \"by\" : \"United States\"\n",
    "        }\n",
    "    ]\n",
    "},\n",
    "\n",
    "{\n",
    "    \"_id\" : 4,\n",
    "    \"name\" : {\n",
    "        \"first\" : \"Kristen\",\n",
    "        \"last\" : \"Nygaard\"\n",
    "    },\n",
    "    \"birth\" : ISODate(\"1926-08-27T04:00:00Z\"),\n",
    "    \"death\" : ISODate(\"2002-08-10T04:00:00Z\"),\n",
    "    \"contribs\" : [\n",
    "        \"OOP\",\n",
    "        \"Simula\"\n",
    "    ],\n",
    "    \"awards\" : [\n",
    "        {\n",
    "            \"award\" : \"Rosing Prize\",\n",
    "            \"year\" : 1999,\n",
    "            \"by\" : \"Norwegian Data Association\"\n",
    "        },\n",
    "        {\n",
    "            \"award\" : \"Turing Award\",\n",
    "            \"year\" : 2001,\n",
    "            \"by\" : \"ACM\"\n",
    "        },\n",
    "        {\n",
    "            \"award\" : \"IEEE John von Neumann Medal\",\n",
    "            \"year\" : 2001,\n",
    "            \"by\" : \"IEEE\"\n",
    "        }\n",
    "    ]\n",
    "},\n",
    "\n",
    "{\n",
    "    \"_id\" : 5,\n",
    "    \"name\" : {\n",
    "        \"first\" : \"Ole-Johan\",\n",
    "        \"last\" : \"Dahl\"\n",
    "    },\n",
    "    \"birth\" : ISODate(\"1931-10-12T04:00:00Z\"),\n",
    "    \"death\" : ISODate(\"2002-06-29T04:00:00Z\"),\n",
    "    \"contribs\" : [\n",
    "        \"OOP\",\n",
    "        \"Simula\"\n",
    "    ],\n",
    "    \"awards\" : [\n",
    "        {\n",
    "            \"award\" : \"Rosing Prize\",\n",
    "            \"year\" : 1999,\n",
    "            \"by\" : \"Norwegian Data Association\"\n",
    "        },\n",
    "        {\n",
    "            \"award\" : \"Turing Award\",\n",
    "            \"year\" : 2001,\n",
    "            \"by\" : \"ACM\"\n",
    "        },\n",
    "        {\n",
    "            \"award\" : \"IEEE John von Neumann Medal\",\n",
    "            \"year\" : 2001,\n",
    "            \"by\" : \"IEEE\"\n",
    "        }\n",
    "    ]\n",
    "},\n",
    "\n",
    "{\n",
    "    \"_id\" : 6,\n",
    "    \"name\" : {\n",
    "        \"first\" : \"Guido\",\n",
    "        \"last\" : \"van Rossum\"\n",
    "    },\n",
    "    \"birth\" : ISODate(\"1956-01-31T05:00:00Z\"),\n",
    "    \"contribs\" : [\n",
    "        \"Python\"\n",
    "    ],\n",
    "    \"awards\" : [\n",
    "        {\n",
    "            \"award\" : \"Award for the Advancement of Free Software\",\n",
    "            \"year\" : 2001,\n",
    "            \"by\" : \"Free Software Foundation\"\n",
    "        },\n",
    "        {\n",
    "            \"award\" : \"NLUUG Award\",\n",
    "            \"year\" : 2003,\n",
    "            \"by\" : \"NLUUG\"\n",
    "        }\n",
    "    ]\n",
    "},\n",
    "\n",
    "{\n",
    "    \"_id\" : ObjectId(\"51e062189c6ae665454e301d\"),\n",
    "    \"name\" : {\n",
    "        \"first\" : \"Dennis\",\n",
    "        \"last\" : \"Ritchie\"\n",
    "    },\n",
    "    \"birth\" : ISODate(\"1941-09-09T04:00:00Z\"),\n",
    "    \"death\" : ISODate(\"2011-10-12T04:00:00Z\"),\n",
    "    \"contribs\" : [\n",
    "        \"UNIX\",\n",
    "        \"C\"\n",
    "    ],\n",
    "    \"awards\" : [\n",
    "        {\n",
    "            \"award\" : \"Turing Award\",\n",
    "            \"year\" : 1983,\n",
    "            \"by\" : \"ACM\"\n",
    "        },\n",
    "        {\n",
    "            \"award\" : \"National Medal of Technology\",\n",
    "            \"year\" : 1998,\n",
    "            \"by\" : \"United States\"\n",
    "        },\n",
    "        {\n",
    "            \"award\" : \"Japan Prize\",\n",
    "            \"year\" : 2011,\n",
    "            \"by\" : \"The Japan Prize Foundation\"\n",
    "        }\n",
    "    ]\n",
    "},\n",
    "\n",
    "{\n",
    "    \"_id\" : 8,\n",
    "    \"name\" : {\n",
    "        \"first\" : \"Yukihiro\",\n",
    "        \"aka\" : \"Matz\",\n",
    "        \"last\" : \"Matsumoto\"\n",
    "    },\n",
    "    \"birth\" : ISODate(\"1965-04-14T04:00:00Z\"),\n",
    "    \"contribs\" : [\n",
    "        \"Ruby\"\n",
    "    ],\n",
    "    \"awards\" : [\n",
    "        {\n",
    "            \"award\" : \"Award for the Advancement of Free Software\",\n",
    "            \"year\" : \"2011\",\n",
    "            \"by\" : \"Free Software Foundation\"\n",
    "        }\n",
    "    ]\n",
    "},\n",
    "\n",
    "{\n",
    "    \"_id\" : 9,\n",
    "    \"name\" : {\n",
    "        \"first\" : \"James\",\n",
    "        \"last\" : \"Gosling\"\n",
    "    },\n",
    "    \"birth\" : ISODate(\"1955-05-19T04:00:00Z\"),\n",
    "    \"contribs\" : [\n",
    "        \"Java\"\n",
    "    ],\n",
    "    \"awards\" : [\n",
    "        {\n",
    "            \"award\" : \"The Economist Innovation Award\",\n",
    "            \"year\" : 2002,\n",
    "            \"by\" : \"The Economist\"\n",
    "        },\n",
    "        {\n",
    "            \"award\" : \"Officer of the Order of Canada\",\n",
    "            \"year\" : 2007,\n",
    "            \"by\" : \"Canada\"\n",
    "        }\n",
    "    ]\n",
    "},\n",
    "\n",
    "{\n",
    "    \"_id\" : 10,\n",
    "    \"name\" : {\n",
    "        \"first\" : \"Martin\",\n",
    "        \"last\" : \"Odersky\"\n",
    "    },\n",
    "    \"contribs\" : [\n",
    "        \"Scala\"\n",
    "    ]\n",
    "}]"
   ]
  },
  {
   "cell_type": "code",
   "execution_count": 6,
   "metadata": {},
   "outputs": [
    {
     "data": {
      "text/plain": [
       "<pymongo.results.InsertManyResult at 0x233a18f8f88>"
      ]
     },
     "execution_count": 6,
     "metadata": {},
     "output_type": "execute_result"
    }
   ],
   "source": [
    "# bulk-insert famous people into collections 1 and 2\n",
    "collection1.insert_many(famous_people)\n",
    "collection2.insert_many(famous_people)"
   ]
  },
  {
   "cell_type": "code",
   "execution_count": 7,
   "metadata": {},
   "outputs": [
    {
     "name": "stdout",
     "output_type": "stream",
     "text": [
      "Databases:\n",
      "['admin', 'local', 'proj4', 'test']\n",
      "Collections in proj4:\n",
      "['famous-people-prob1', 'famous-people-prob2']\n",
      "Number of Docs:\n",
      "collection1 (10), collection2 (10)\n"
     ]
    }
   ],
   "source": [
    "# check db if everything added correctly\n",
    "print(\"Databases:\")\n",
    "print(client.database_names())\n",
    "print(\"Collections in proj4:\")\n",
    "print(db.collection_names())\n",
    "print(\"Number of Docs:\")\n",
    "print(\"collection1 ({}), collection2 ({})\".format(collection1.count(), collection2.count()))"
   ]
  },
  {
   "cell_type": "markdown",
   "metadata": {},
   "source": [
    "# <Center>Problem 1\n",
    "<Center>Database Modeling, Loading, & Modification"
   ]
  },
  {
   "cell_type": "code",
   "execution_count": 8,
   "metadata": {},
   "outputs": [
    {
     "name": "stdout",
     "output_type": "stream",
     "text": [
      "_id of John McCarthy should be 100: \n",
      "\n",
      "{'_id': 100, 'name': {'first': 'John', 'last': 'McCarthy'}, 'birth': datetime.datetime(1927, 9, 4, 4, 0), 'death': datetime.datetime(2011, 12, 24, 5, 0), 'contribs': ['Lisp', 'Artificial Intelligence', 'ALGOL'], 'awards': [{'award': 'Turing Award', 'year': 1971, 'by': 'ACM'}, {'award': 'Kyoto Prize', 'year': 1988, 'by': 'Inamori Foundation'}, {'award': 'National Medal of Science', 'year': 1990, 'by': 'National Science Foundation'}]}\n",
      "\n"
     ]
    }
   ],
   "source": [
    "\"\"\"\n",
    "1) Write an operation(s) that changes the _id of \n",
    "“John McCarthy” to value 100.\n",
    "\"\"\"\n",
    "## MongoDB does not allow to change _id, thus must make new document\n",
    "# find document we want\n",
    "doc = collection1.find_one({\"name\":{\"first\":\"John\",\"last\":\"McCarthy\"}})\n",
    "\n",
    "# edit _id of saved doc object\n",
    "doc['_id'] = 100\n",
    "\n",
    "# insert updated document\n",
    "collection1.insert_one(doc)\n",
    "\n",
    "# remove doc from collection with old id\n",
    "collection1.delete_one({\"name\":{\"first\":\"John\",\"last\":\"McCarthy\"}})\n",
    "\n",
    "# check if CRUD operations worked\n",
    "doc = collection1.find_one({\"name\":{\"first\":\"John\",\"last\":\"McCarthy\"}})\n",
    "print(\"_id of John McCarthy should be 100: \\n\")\n",
    "print(doc)\n",
    "print()"
   ]
  },
  {
   "cell_type": "code",
   "execution_count": 9,
   "metadata": {},
   "outputs": [
    {
     "name": "stdout",
     "output_type": "stream",
     "text": [
      "Check if _id 20 and 30 are in collections: \n",
      "\n",
      "{'_id': 20, 'name': {'first': 'Mary', 'last': 'Sally'}, 'birth': datetime.datetime(1933, 8, 27, 4, 0), 'death': datetime.datetime(1984, 11, 7, 4, 0), 'contribs': ['C++', 'Simula'], 'awards': [{'award': 'WPI Award', 'year': 1999, 'by': 'WPI'}]}\n",
      "\n",
      "{'_id': 30, 'name': {'first': 'Ming', 'last': 'Zhang'}, 'birth': datetime.datetime(1911, 4, 12, 4, 0), 'death': datetime.datetime(2000, 11, 7, 4, 0), 'contribs': ['C++', 'FP', 'Python'], 'awards': [{'award': 'WPI Award', 'year': 1960, 'by': 'WPI'}, {'award': 'Turing Award', 'year': 1960, 'by': 'ACM'}]}\n",
      "\n"
     ]
    }
   ],
   "source": [
    "\"\"\"\n",
    "2.) Write an operation(s) that inserts the \n",
    "following new records into the collection:\n",
    "\"\"\"\n",
    "# copy new records\n",
    "new_records = [{\n",
    " \"_id\" : 20,\n",
    " \"name\" : {\n",
    " \"first\" : \"Mary\",\n",
    " \"last\" : \"Sally\"\n",
    " },\n",
    " \"birth\" : ISODate(\"1933-08-27T04:00:00Z\"),\n",
    " \"death\" : ISODate(\"1984-11-07T04:00:00Z\"),\n",
    " \"contribs\" : [\n",
    " \"C++\",\n",
    " \"Simula\"\n",
    " ],\n",
    " \"awards\" : [\n",
    " {\n",
    " \"award\" : \"WPI Award\",\n",
    " \"year\" : 1999,\n",
    " \"by\" : \"WPI\"\n",
    " }\n",
    " ]\n",
    " },\n",
    " {\n",
    " \"_id\" : 30,\n",
    " \"name\" : {\n",
    " \"first\" : \"Ming\",\n",
    " \"last\" : \"Zhang\"\n",
    " },\n",
    " \"birth\" : ISODate(\"1911-04-12T04:00:00Z\"),\n",
    " \"death\" : ISODate(\"2000-11-07T04:00:00Z\"),\n",
    " \"contribs\" : [\n",
    " \"C++\",\n",
    " \"FP\",\n",
    " \"Python\",\n",
    " ],\n",
    " \"awards\" : [\n",
    " {\n",
    " \"award\" : \"WPI Award\",\n",
    " \"year\" : 1960,\n",
    " \"by\" : \"WPI\"\n",
    " },\n",
    " {\n",
    " \"award\" : \"Turing Award\",\n",
    " \"year\" : 1960,\n",
    " \"by\" : \"ACM\"\n",
    " }\n",
    " ]\n",
    "}]\n",
    "\n",
    "# insert the new records\n",
    "collection1.insert_many(new_records)\n",
    "\n",
    "# check if CRUD operations work\n",
    "print(\"Check if _id 20 and 30 are in collections: \\n\")\n",
    "docs = collection1.find( {\"_id\": {\"$in\": [20, 30]} } )\n",
    "for doc in docs:\n",
    "    print(doc)\n",
    "    print()"
   ]
  },
  {
   "cell_type": "code",
   "execution_count": 10,
   "metadata": {},
   "outputs": [
    {
     "name": "stdout",
     "output_type": "stream",
     "text": [
      "All people who got a Turing Award after 1960: \n",
      "\n",
      "{'_id': 1, 'name': {'first': 'John', 'last': 'Backus'}, 'birth': datetime.datetime(1924, 12, 3, 5, 0), 'death': datetime.datetime(2007, 3, 17, 4, 0), 'contribs': ['Fortran', 'ALGOL', 'Backus-Naur Form', 'FP'], 'awards': [{'award': 'W.W. McDowell Award', 'year': 1967, 'by': 'IEEE Computer Society'}, {'award': 'National Medal of Science', 'year': 1975, 'by': 'National Science Foundation'}, {'award': 'Turing Award', 'year': 1977, 'by': 'ACM'}, {'award': 'Draper Prize', 'year': 1993, 'by': 'National Academy of Engineering'}]}\n",
      "\n",
      "{'_id': 4, 'name': {'first': 'Kristen', 'last': 'Nygaard'}, 'birth': datetime.datetime(1926, 8, 27, 4, 0), 'death': datetime.datetime(2002, 8, 10, 4, 0), 'contribs': ['OOP', 'Simula'], 'awards': [{'award': 'Rosing Prize', 'year': 1999, 'by': 'Norwegian Data Association'}, {'award': 'Turing Award', 'year': 2001, 'by': 'ACM'}, {'award': 'IEEE John von Neumann Medal', 'year': 2001, 'by': 'IEEE'}]}\n",
      "\n",
      "{'_id': 5, 'name': {'first': 'Ole-Johan', 'last': 'Dahl'}, 'birth': datetime.datetime(1931, 10, 12, 4, 0), 'death': datetime.datetime(2002, 6, 29, 4, 0), 'contribs': ['OOP', 'Simula'], 'awards': [{'award': 'Rosing Prize', 'year': 1999, 'by': 'Norwegian Data Association'}, {'award': 'Turing Award', 'year': 2001, 'by': 'ACM'}, {'award': 'IEEE John von Neumann Medal', 'year': 2001, 'by': 'IEEE'}]}\n",
      "\n",
      "{'_id': ObjectId('51e062189c6ae665454e301d'), 'name': {'first': 'Dennis', 'last': 'Ritchie'}, 'birth': datetime.datetime(1941, 9, 9, 4, 0), 'death': datetime.datetime(2011, 10, 12, 4, 0), 'contribs': ['UNIX', 'C'], 'awards': [{'award': 'Turing Award', 'year': 1983, 'by': 'ACM'}, {'award': 'National Medal of Technology', 'year': 1998, 'by': 'United States'}, {'award': 'Japan Prize', 'year': 2011, 'by': 'The Japan Prize Foundation'}]}\n",
      "\n",
      "{'_id': 100, 'name': {'first': 'John', 'last': 'McCarthy'}, 'birth': datetime.datetime(1927, 9, 4, 4, 0), 'death': datetime.datetime(2011, 12, 24, 5, 0), 'contribs': ['Lisp', 'Artificial Intelligence', 'ALGOL'], 'awards': [{'award': 'Turing Award', 'year': 1971, 'by': 'ACM'}, {'award': 'Kyoto Prize', 'year': 1988, 'by': 'Inamori Foundation'}, {'award': 'National Medal of Science', 'year': 1990, 'by': 'National Science Foundation'}]}\n",
      "\n"
     ]
    }
   ],
   "source": [
    "\"\"\"\n",
    "3) Report all documents of people who got \n",
    "a “Turing Award” after 1960.\n",
    "\"\"\"\n",
    "# query all documents\n",
    "docs = collection1.find( {\"awards\": {\"$elemMatch\": {\"award\": \"Turing Award\", \"year\": {\"$gt\": 1960}} }} )\n",
    "\n",
    "# print the results\n",
    "print(\"All people who got a Turing Award after 1960: \\n\")\n",
    "for doc in docs:\n",
    "    print(doc)\n",
    "    print()"
   ]
  },
  {
   "cell_type": "code",
   "execution_count": 11,
   "metadata": {},
   "outputs": [
    {
     "name": "stdout",
     "output_type": "stream",
     "text": [
      "All people who got more than 2 awards: \n",
      "\n",
      "{'_id': 1, 'name': {'first': 'John', 'last': 'Backus'}, 'birth': datetime.datetime(1924, 12, 3, 5, 0), 'death': datetime.datetime(2007, 3, 17, 4, 0), 'contribs': ['Fortran', 'ALGOL', 'Backus-Naur Form', 'FP'], 'awards': [{'award': 'W.W. McDowell Award', 'year': 1967, 'by': 'IEEE Computer Society'}, {'award': 'National Medal of Science', 'year': 1975, 'by': 'National Science Foundation'}, {'award': 'Turing Award', 'year': 1977, 'by': 'ACM'}, {'award': 'Draper Prize', 'year': 1993, 'by': 'National Academy of Engineering'}]}\n",
      "\n",
      "{'_id': 3, 'name': {'first': 'Grace', 'last': 'Hopper'}, 'title': 'Rear Admiral', 'birth': datetime.datetime(1906, 12, 9, 5, 0), 'death': datetime.datetime(1992, 1, 1, 5, 0), 'contribs': ['UNIVAC', 'compiler', 'FLOW-MATIC', 'COBOL'], 'awards': [{'award': 'Computer Sciences Man of the Year', 'year': 1969, 'by': 'Data Processing Management Association'}, {'award': 'Distinguished Fellow', 'year': 1973, 'by': ' British Computer Society'}, {'award': 'W. W. McDowell Award', 'year': 1976, 'by': 'IEEE Computer Society'}, {'award': 'National Medal of Technology', 'year': 1991, 'by': 'United States'}]}\n",
      "\n",
      "{'_id': 4, 'name': {'first': 'Kristen', 'last': 'Nygaard'}, 'birth': datetime.datetime(1926, 8, 27, 4, 0), 'death': datetime.datetime(2002, 8, 10, 4, 0), 'contribs': ['OOP', 'Simula'], 'awards': [{'award': 'Rosing Prize', 'year': 1999, 'by': 'Norwegian Data Association'}, {'award': 'Turing Award', 'year': 2001, 'by': 'ACM'}, {'award': 'IEEE John von Neumann Medal', 'year': 2001, 'by': 'IEEE'}]}\n",
      "\n",
      "{'_id': 5, 'name': {'first': 'Ole-Johan', 'last': 'Dahl'}, 'birth': datetime.datetime(1931, 10, 12, 4, 0), 'death': datetime.datetime(2002, 6, 29, 4, 0), 'contribs': ['OOP', 'Simula'], 'awards': [{'award': 'Rosing Prize', 'year': 1999, 'by': 'Norwegian Data Association'}, {'award': 'Turing Award', 'year': 2001, 'by': 'ACM'}, {'award': 'IEEE John von Neumann Medal', 'year': 2001, 'by': 'IEEE'}]}\n",
      "\n",
      "{'_id': ObjectId('51e062189c6ae665454e301d'), 'name': {'first': 'Dennis', 'last': 'Ritchie'}, 'birth': datetime.datetime(1941, 9, 9, 4, 0), 'death': datetime.datetime(2011, 10, 12, 4, 0), 'contribs': ['UNIX', 'C'], 'awards': [{'award': 'Turing Award', 'year': 1983, 'by': 'ACM'}, {'award': 'National Medal of Technology', 'year': 1998, 'by': 'United States'}, {'award': 'Japan Prize', 'year': 2011, 'by': 'The Japan Prize Foundation'}]}\n",
      "\n",
      "{'_id': 100, 'name': {'first': 'John', 'last': 'McCarthy'}, 'birth': datetime.datetime(1927, 9, 4, 4, 0), 'death': datetime.datetime(2011, 12, 24, 5, 0), 'contribs': ['Lisp', 'Artificial Intelligence', 'ALGOL'], 'awards': [{'award': 'Turing Award', 'year': 1971, 'by': 'ACM'}, {'award': 'Kyoto Prize', 'year': 1988, 'by': 'Inamori Foundation'}, {'award': 'National Medal of Science', 'year': 1990, 'by': 'National Science Foundation'}]}\n",
      "\n"
     ]
    }
   ],
   "source": [
    "\"\"\"\n",
    "4) Report all people who got more than 2 awards\n",
    "\n",
    "Note: $size is the first CRUD operation to come to mind, \n",
    "but can only take a number, need to use a combination\n",
    "of $exist to see if the awards array exists and then $where \n",
    "on array length to see if >2  instead\n",
    "\"\"\"\n",
    "# $size can only take number, so need\n",
    "docs = collection1.find( {\"awards\": {\"$exists\": True}, \"$where\": \"this.awards.length > 2\"} )\n",
    "print(\"All people who got more than 2 awards: \\n\")\n",
    "for doc in docs:\n",
    "    print(doc)\n",
    "    print()"
   ]
  },
  {
   "cell_type": "code",
   "execution_count": 12,
   "metadata": {},
   "outputs": [
    {
     "name": "stdout",
     "output_type": "stream",
     "text": [
      "Updated Guido van Rossum with Python contrib: \n",
      "\n",
      "{'_id': 6, 'name': {'first': 'Guido', 'last': 'van Rossum'}, 'birth': datetime.datetime(1956, 1, 31, 5, 0), 'contribs': ['Python', 'Python'], 'awards': [{'award': 'Award for the Advancement of Free Software', 'year': 2001, 'by': 'Free Software Foundation'}, {'award': 'NLUUG Award', 'year': 2003, 'by': 'NLUUG'}]}\n"
     ]
    }
   ],
   "source": [
    "\"\"\"\n",
    "5) Update the document of “Guido van Rossum” to add\n",
    "“Python” to the contribution list.\n",
    "\n",
    "Note: Guido van Rossum already has Python as a contribution as\n",
    "a defult, thus operation will add another occurence.\n",
    "\"\"\"\n",
    "collection1.update_one({\"name\":{\"first\":\"Guido\",\"last\":\"van Rossum\"}},\n",
    "                         {\"$push\": {\"contribs\":\"Python\"}})\n",
    "\n",
    "doc = collection1.find_one({\"name\":{\"first\":\"Guido\",\"last\":\"van Rossum\"}})\n",
    "print(\"Updated Guido van Rossum with Python contrib: \\n\")\n",
    "print(doc)"
   ]
  },
  {
   "cell_type": "code",
   "execution_count": 13,
   "metadata": {},
   "outputs": [
    {
     "name": "stdout",
     "output_type": "stream",
     "text": [
      "Mary Sally and her comments: \n",
      "\n",
      "{'_id': 20, 'name': {'first': 'Mary', 'last': 'Sally'}, 'birth': datetime.datetime(1933, 8, 27, 4, 0), 'death': datetime.datetime(1984, 11, 7, 4, 0), 'contribs': ['C++', 'Simula'], 'awards': [{'award': 'WPI Award', 'year': 1999, 'by': 'WPI'}], 'comments': ['taught in 3 universities', 'was an amazing pioneer', 'lived in Worcester']}\n"
     ]
    }
   ],
   "source": [
    "\"\"\"\n",
    "6) Insert a new field called “comments” of type array \n",
    "into document of “Mary Sally” storing the comments: \n",
    "“taught in 3 universities”, “was an amazing pioneer”, \n",
    "“lived in Worcester.”\n",
    "\"\"\"\n",
    "# make comments array\n",
    "comments = [\"taught in 3 universities\",\n",
    "            \"was an amazing pioneer\",\n",
    "            \"lived in Worcester\"]\n",
    "# add and update Mary Sally's comments\n",
    "collection1.update_one({\"name\":{\"first\":\"Mary\",\"last\":\"Sally\"}},\n",
    "                         { \"$set\": {\"comments\": comments} })\n",
    "# check if update worked\n",
    "doc = collection1.find_one({\"name\":{\"first\":\"Mary\",\"last\":\"Sally\"}})\n",
    "\n",
    "print(\"Mary Sally and her comments: \\n\")\n",
    "print(doc)"
   ]
  },
  {
   "cell_type": "code",
   "execution_count": 14,
   "metadata": {},
   "outputs": [
    {
     "name": "stdout",
     "output_type": "stream",
     "text": [
      "Mary Sally's Contributions: ['C++', 'Simula'] \n",
      "\n",
      "Contribution: C++\n",
      "People: \n",
      "{'first': 'Mary', 'last': 'Sally'}\n",
      "{'first': 'Ming', 'last': 'Zhang'}\n",
      "\n",
      "Contribution: Simula\n",
      "People: \n",
      "{'first': 'Kristen', 'last': 'Nygaard'}\n",
      "{'first': 'Ole-Johan', 'last': 'Dahl'}\n",
      "{'first': 'Mary', 'last': 'Sally'}\n",
      "\n"
     ]
    }
   ],
   "source": [
    "\"\"\"\n",
    "7) For each contribution by “Mary Sally”, say \n",
    "contribution “C”, list the people’s first and \n",
    "last names who have the same contribution “C”. \n",
    "For example, since “Mary Sally” has two contributions \n",
    "in “C++” and “Simula”, the output for her should \n",
    "be similar to: {Contribution: “C++”, People: \n",
    "[{first: “Mary”, last: “Sally”}, {first: “Ming”, \n",
    "last: “Zhang”}]},{ Contribution: “Simula”,\n",
    " … .}\n",
    "\"\"\"\n",
    "# get Mary Sally's information\n",
    "doc = collection1.find_one({\"name\":{\"first\":\"Mary\",\"last\":\"Sally\"}})\n",
    "\n",
    "# get Mary Sally's contribution list\n",
    "contribs = doc['contribs']\n",
    "print(\"Mary Sally's Contributions: {} \\n\".format(contribs))\n",
    "\n",
    "# identify people\n",
    "for contrib in contribs:\n",
    "    print(\"Contribution: {}\".format(contrib))\n",
    "    # gather all people with same contribution\n",
    "    docs = collection1.find({\"contribs\": contrib})\n",
    "    print(\"People: \")\n",
    "    for doc in docs:\n",
    "        # print out each persons name\n",
    "        print(doc['name'])\n",
    "    print()\n"
   ]
  },
  {
   "cell_type": "code",
   "execution_count": 15,
   "metadata": {},
   "outputs": [
    {
     "name": "stdout",
     "output_type": "stream",
     "text": [
      "{'_id': 1, 'name': {'first': 'John', 'last': 'Backus'}, 'birth': datetime.datetime(1924, 12, 3, 5, 0), 'death': datetime.datetime(2007, 3, 17, 4, 0), 'contribs': ['Fortran', 'ALGOL', 'Backus-Naur Form', 'FP'], 'awards': [{'award': 'W.W. McDowell Award', 'year': 1967, 'by': 'IEEE Computer Society'}, {'award': 'National Medal of Science', 'year': 1975, 'by': 'National Science Foundation'}, {'award': 'Turing Award', 'year': 1977, 'by': 'ACM'}, {'award': 'Draper Prize', 'year': 1993, 'by': 'National Academy of Engineering'}]}\n",
      "\n",
      "{'_id': 5, 'name': {'first': 'Ole-Johan', 'last': 'Dahl'}, 'birth': datetime.datetime(1931, 10, 12, 4, 0), 'death': datetime.datetime(2002, 6, 29, 4, 0), 'contribs': ['OOP', 'Simula'], 'awards': [{'award': 'Rosing Prize', 'year': 1999, 'by': 'Norwegian Data Association'}, {'award': 'Turing Award', 'year': 2001, 'by': 'ACM'}, {'award': 'IEEE John von Neumann Medal', 'year': 2001, 'by': 'IEEE'}]}\n",
      "\n",
      "{'_id': 9, 'name': {'first': 'James', 'last': 'Gosling'}, 'birth': datetime.datetime(1955, 5, 19, 4, 0), 'contribs': ['Java'], 'awards': [{'award': 'The Economist Innovation Award', 'year': 2002, 'by': 'The Economist'}, {'award': 'Officer of the Order of Canada', 'year': 2007, 'by': 'Canada'}]}\n",
      "\n",
      "{'_id': 100, 'name': {'first': 'John', 'last': 'McCarthy'}, 'birth': datetime.datetime(1927, 9, 4, 4, 0), 'death': datetime.datetime(2011, 12, 24, 5, 0), 'contribs': ['Lisp', 'Artificial Intelligence', 'ALGOL'], 'awards': [{'award': 'Turing Award', 'year': 1971, 'by': 'ACM'}, {'award': 'Kyoto Prize', 'year': 1988, 'by': 'Inamori Foundation'}, {'award': 'National Medal of Science', 'year': 1990, 'by': 'National Science Foundation'}]}\n",
      "\n"
     ]
    }
   ],
   "source": [
    "\"\"\"\n",
    "8) Report all documents where the first name matches the regular expression “Jo*”, where “*” means any number of characters. \n",
    "Report the documents sorted by the last name.\n",
    "\"\"\"\n",
    "docs = collection1.find(\n",
    "    {\n",
    "        \"name.first\": { \"$regex\": \"Jo*\" }\n",
    "    }\n",
    ").sort([(\"name.last\",pymongo.ASCENDING)])\n",
    "for doc in docs:\n",
    "    print(doc)\n",
    "    print()"
   ]
  },
  {
   "cell_type": "code",
   "execution_count": 16,
   "metadata": {
    "scrolled": true
   },
   "outputs": [
    {
     "name": "stdout",
     "output_type": "stream",
     "text": [
      "{'_id': 30, 'name': {'first': 'Ming', 'last': 'Zhang'}, 'birth': datetime.datetime(1911, 4, 12, 4, 0), 'death': datetime.datetime(2000, 11, 7, 4, 0), 'contribs': ['C++', 'FP', 'Python'], 'awards': [{'award': 'WPI Award', 'year': 1965, 'by': 'WPI'}, {'award': 'Turing Award', 'year': 1960, 'by': 'ACM'}]}\n"
     ]
    }
   ],
   "source": [
    "\"\"\"\n",
    "9) Update the award of document_id = 30, which is given by WPI, and set the year to 1965\n",
    "\"\"\"\n",
    "collection1.update_one({\"_id\": 30, \"awards.by\": \"WPI\"}, {\"$set\": {\"awards.$.year\": 1965}})\n",
    "\n",
    "doc = collection1.find_one({\"_id\":30})\n",
    "print(doc)"
   ]
  },
  {
   "cell_type": "code",
   "execution_count": 17,
   "metadata": {},
   "outputs": [
    {
     "name": "stdout",
     "output_type": "stream",
     "text": [
      "after update\n",
      "{'_id': 30, 'name': {'first': 'Ming', 'last': 'Zhang'}, 'birth': datetime.datetime(1911, 4, 12, 4, 0), 'death': datetime.datetime(2000, 11, 7, 4, 0), 'contribs': ['C++', 'FP', 'Python', 'UNIVAC', 'compiler', 'FLOW-MATIC', 'COBOL'], 'awards': [{'award': 'WPI Award', 'year': 1965, 'by': 'WPI'}, {'award': 'Turing Award', 'year': 1960, 'by': 'ACM'}]}\n"
     ]
    }
   ],
   "source": [
    "\"\"\"\n",
    "10) Add(copy) all the contribution of doucment_id = 3 to that of document_id = 30\n",
    "\"\"\"\n",
    "contributions = collection1.find_one({\"_id\":3})['contribs']\n",
    "for n in contributions:\n",
    "    collection1.update_one({\"_id\": 30}, {\"$push\": {\"contribs\": n}})\n",
    "print(\"after update\")    \n",
    "print(collection1.find_one({\"_id\": 30}))"
   ]
  },
  {
   "cell_type": "markdown",
   "metadata": {},
   "source": [
    "# <Center> problem 2: Advanced Query Specfication in MongoDB"
   ]
  },
  {
   "cell_type": "code",
   "execution_count": 18,
   "metadata": {},
   "outputs": [
    {
     "name": "stdout",
     "output_type": "stream",
     "text": [
      "{'_id': 1, 'name': {'first': 'John', 'last': 'Backus'}, 'birth': datetime.datetime(1924, 12, 3, 5, 0), 'death': datetime.datetime(2007, 3, 17, 4, 0), 'contribs': ['Fortran', 'ALGOL', 'Backus-Naur Form', 'FP'], 'awards': [{'award': 'W.W. McDowell Award', 'year': 1967, 'by': 'IEEE Computer Society'}, {'award': 'National Medal of Science', 'year': 1975, 'by': 'National Science Foundation'}, {'award': 'Turing Award', 'year': 1977, 'by': 'ACM'}, {'award': 'Draper Prize', 'year': 1993, 'by': 'National Academy of Engineering'}]}\n",
      "\n",
      "{'_id': ObjectId('51df07b094c6acd67e492f41'), 'name': {'first': 'John', 'last': 'McCarthy'}, 'birth': datetime.datetime(1927, 9, 4, 4, 0), 'death': datetime.datetime(2011, 12, 24, 5, 0), 'contribs': ['Lisp', 'Artificial Intelligence', 'ALGOL'], 'awards': [{'award': 'Turing Award', 'year': 1971, 'by': 'ACM'}, {'award': 'Kyoto Prize', 'year': 1988, 'by': 'Inamori Foundation'}, {'award': 'National Medal of Science', 'year': 1990, 'by': 'National Science Foundation'}]}\n",
      "\n",
      "{'_id': 3, 'name': {'first': 'Grace', 'last': 'Hopper'}, 'title': 'Rear Admiral', 'birth': datetime.datetime(1906, 12, 9, 5, 0), 'death': datetime.datetime(1992, 1, 1, 5, 0), 'contribs': ['UNIVAC', 'compiler', 'FLOW-MATIC', 'COBOL'], 'awards': [{'award': 'Computer Sciences Man of the Year', 'year': 1969, 'by': 'Data Processing Management Association'}, {'award': 'Distinguished Fellow', 'year': 1973, 'by': ' British Computer Society'}, {'award': 'W. W. McDowell Award', 'year': 1976, 'by': 'IEEE Computer Society'}, {'award': 'National Medal of Technology', 'year': 1991, 'by': 'United States'}]}\n",
      "\n",
      "{'_id': 4, 'name': {'first': 'Kristen', 'last': 'Nygaard'}, 'birth': datetime.datetime(1926, 8, 27, 4, 0), 'death': datetime.datetime(2002, 8, 10, 4, 0), 'contribs': ['OOP', 'Simula'], 'awards': [{'award': 'Rosing Prize', 'year': 1999, 'by': 'Norwegian Data Association'}, {'award': 'Turing Award', 'year': 2001, 'by': 'ACM'}, {'award': 'IEEE John von Neumann Medal', 'year': 2001, 'by': 'IEEE'}]}\n",
      "\n",
      "{'_id': 5, 'name': {'first': 'Ole-Johan', 'last': 'Dahl'}, 'birth': datetime.datetime(1931, 10, 12, 4, 0), 'death': datetime.datetime(2002, 6, 29, 4, 0), 'contribs': ['OOP', 'Simula'], 'awards': [{'award': 'Rosing Prize', 'year': 1999, 'by': 'Norwegian Data Association'}, {'award': 'Turing Award', 'year': 2001, 'by': 'ACM'}, {'award': 'IEEE John von Neumann Medal', 'year': 2001, 'by': 'IEEE'}]}\n",
      "\n",
      "{'_id': 6, 'name': {'first': 'Guido', 'last': 'van Rossum'}, 'birth': datetime.datetime(1956, 1, 31, 5, 0), 'contribs': ['Python'], 'awards': [{'award': 'Award for the Advancement of Free Software', 'year': 2001, 'by': 'Free Software Foundation'}, {'award': 'NLUUG Award', 'year': 2003, 'by': 'NLUUG'}]}\n",
      "\n",
      "{'_id': ObjectId('51e062189c6ae665454e301d'), 'name': {'first': 'Dennis', 'last': 'Ritchie'}, 'birth': datetime.datetime(1941, 9, 9, 4, 0), 'death': datetime.datetime(2011, 10, 12, 4, 0), 'contribs': ['UNIX', 'C'], 'awards': [{'award': 'Turing Award', 'year': 1983, 'by': 'ACM'}, {'award': 'National Medal of Technology', 'year': 1998, 'by': 'United States'}, {'award': 'Japan Prize', 'year': 2011, 'by': 'The Japan Prize Foundation'}]}\n",
      "\n",
      "{'_id': 8, 'name': {'first': 'Yukihiro', 'aka': 'Matz', 'last': 'Matsumoto'}, 'birth': datetime.datetime(1965, 4, 14, 4, 0), 'contribs': ['Ruby'], 'awards': [{'award': 'Award for the Advancement of Free Software', 'year': '2011', 'by': 'Free Software Foundation'}]}\n",
      "\n",
      "{'_id': 9, 'name': {'first': 'James', 'last': 'Gosling'}, 'birth': datetime.datetime(1955, 5, 19, 4, 0), 'contribs': ['Java'], 'awards': [{'award': 'The Economist Innovation Award', 'year': 2002, 'by': 'The Economist'}, {'award': 'Officer of the Order of Canada', 'year': 2007, 'by': 'Canada'}]}\n",
      "\n",
      "{'_id': 10, 'name': {'first': 'Martin', 'last': 'Odersky'}, 'contribs': ['Scala']}\n",
      "\n"
     ]
    }
   ],
   "source": [
    "docs = collection2.find()\n",
    "for doc in docs:\n",
    "    print(doc)\n",
    "    print()"
   ]
  },
  {
   "cell_type": "code",
   "execution_count": 22,
   "metadata": {},
   "outputs": [
    {
     "name": "stdout",
     "output_type": "stream",
     "text": [
      "{'_id': 'Officer of the Order of Canada', 'years': [{'year': 2007}]}\n",
      "{'_id': 'The Economist Innovation Award', 'years': [{'year': 2002}]}\n",
      "{'_id': 'Japan Prize', 'years': [{'year': 2011}]}\n",
      "{'_id': 'Award for the Advancement of Free Software', 'years': [{'year': 2001}, {'year': '2011'}]}\n",
      "{'_id': 'IEEE John von Neumann Medal', 'years': [{'year': 2001}, {'year': 2001}]}\n",
      "{'_id': 'Rosing Prize', 'years': [{'year': 1999}, {'year': 1999}]}\n",
      "{'_id': 'National Medal of Technology', 'years': [{'year': 1991}, {'year': 1998}]}\n",
      "{'_id': 'Computer Sciences Man of the Year', 'years': [{'year': 1969}]}\n",
      "{'_id': 'W. W. McDowell Award', 'years': [{'year': 1976}]}\n",
      "{'_id': 'Distinguished Fellow', 'years': [{'year': 1973}]}\n",
      "{'_id': 'Kyoto Prize', 'years': [{'year': 1988}]}\n",
      "{'_id': 'Draper Prize', 'years': [{'year': 1993}]}\n",
      "{'_id': 'National Medal of Science', 'years': [{'year': 1975}, {'year': 1990}]}\n",
      "{'_id': 'NLUUG Award', 'years': [{'year': 2003}]}\n",
      "{'_id': 'Turing Award', 'years': [{'year': 1977}, {'year': 1971}, {'year': 2001}, {'year': 2001}, {'year': 1983}]}\n",
      "{'_id': 'W.W. McDowell Award', 'years': [{'year': 1967}]}\n"
     ]
    }
   ],
   "source": [
    "\"\"\"\n",
    "1) Write an aggregation query that groups by the award name, i.e., the “award” field inside the “awards” array, and foreach award\n",
    "reports an array of the years for when this award has been given\n",
    "\"\"\"\n",
    "docs = collection2.aggregate([\n",
    "    {'$unwind': \"$awards\"},\n",
    "\n",
    "    {'$group': {\n",
    "         '_id': \"$awards.award\",\n",
    "         'years':{'$push': {\n",
    "             'year':\"$awards.year\"\n",
    "         }},\n",
    "    }}\n",
    "])\n",
    "for doc in docs:\n",
    "    print(doc)"
   ]
  },
  {
   "cell_type": "code",
   "execution_count": 186,
   "metadata": {},
   "outputs": [
    {
     "ename": "OperationFailure",
     "evalue": "gmtime failed - your system doesn't support dates before 1970",
     "output_type": "error",
     "traceback": [
      "\u001b[1;31m---------------------------------------------------------------------------\u001b[0m",
      "\u001b[1;31mOperationFailure\u001b[0m                          Traceback (most recent call last)",
      "\u001b[1;32m<ipython-input-186-f51c11e83de5>\u001b[0m in \u001b[0;36m<module>\u001b[1;34m()\u001b[0m\n\u001b[0;32m      6\u001b[0m     '$group': {\n\u001b[0;32m      7\u001b[0m         \u001b[1;34m'_id'\u001b[0m\u001b[1;33m:\u001b[0m \u001b[1;33m{\u001b[0m \u001b[1;34m'$year'\u001b[0m\u001b[1;33m:\u001b[0m \u001b[1;34m\"$birth\"\u001b[0m \u001b[1;33m}\u001b[0m\u001b[1;33m,\u001b[0m\u001b[1;33m\u001b[0m\u001b[0m\n\u001b[1;32m----> 8\u001b[1;33m         \u001b[1;34m'count'\u001b[0m\u001b[1;33m:\u001b[0m\u001b[1;33m{\u001b[0m\u001b[1;34m'$sum'\u001b[0m\u001b[1;33m:\u001b[0m\u001b[1;36m1\u001b[0m\u001b[1;33m}\u001b[0m\u001b[1;33m\u001b[0m\u001b[0m\n\u001b[0m\u001b[0;32m      9\u001b[0m     }\n\u001b[0;32m     10\u001b[0m }])\n",
      "\u001b[1;32mF:\\Anaconda\\lib\\site-packages\\pymongo\\collection.py\u001b[0m in \u001b[0;36maggregate\u001b[1;34m(self, pipeline, **kwargs)\u001b[0m\n\u001b[0;32m   1916\u001b[0m                     result = self._command(sock_info, cmd, slave_ok,\n\u001b[0;32m   1917\u001b[0m                                            \u001b[0mread_concern\u001b[0m\u001b[1;33m=\u001b[0m\u001b[0mself\u001b[0m\u001b[1;33m.\u001b[0m\u001b[0mread_concern\u001b[0m\u001b[1;33m,\u001b[0m\u001b[1;33m\u001b[0m\u001b[0m\n\u001b[1;32m-> 1918\u001b[1;33m                                            collation=collation)\n\u001b[0m\u001b[0;32m   1919\u001b[0m             \u001b[1;32melse\u001b[0m\u001b[1;33m:\u001b[0m\u001b[1;33m\u001b[0m\u001b[0m\n\u001b[0;32m   1920\u001b[0m                 result = self._command(sock_info, cmd, slave_ok,\n",
      "\u001b[1;32mF:\\Anaconda\\lib\\site-packages\\pymongo\\collection.py\u001b[0m in \u001b[0;36m_command\u001b[1;34m(self, sock_info, command, slave_ok, read_preference, codec_options, check, allowable_errors, read_concern, write_concern, parse_write_concern_error, collation)\u001b[0m\n\u001b[0;32m    230\u001b[0m             \u001b[0mwrite_concern\u001b[0m\u001b[1;33m=\u001b[0m\u001b[0mwrite_concern\u001b[0m\u001b[1;33m,\u001b[0m\u001b[1;33m\u001b[0m\u001b[0m\n\u001b[0;32m    231\u001b[0m             \u001b[0mparse_write_concern_error\u001b[0m\u001b[1;33m=\u001b[0m\u001b[0mparse_write_concern_error\u001b[0m\u001b[1;33m,\u001b[0m\u001b[1;33m\u001b[0m\u001b[0m\n\u001b[1;32m--> 232\u001b[1;33m             collation=collation)\n\u001b[0m\u001b[0;32m    233\u001b[0m \u001b[1;33m\u001b[0m\u001b[0m\n\u001b[0;32m    234\u001b[0m     \u001b[1;32mdef\u001b[0m \u001b[0m__create\u001b[0m\u001b[1;33m(\u001b[0m\u001b[0mself\u001b[0m\u001b[1;33m,\u001b[0m \u001b[0moptions\u001b[0m\u001b[1;33m,\u001b[0m \u001b[0mcollation\u001b[0m\u001b[1;33m)\u001b[0m\u001b[1;33m:\u001b[0m\u001b[1;33m\u001b[0m\u001b[0m\n",
      "\u001b[1;32mF:\\Anaconda\\lib\\site-packages\\pymongo\\pool.py\u001b[0m in \u001b[0;36mcommand\u001b[1;34m(self, dbname, spec, slave_ok, read_preference, codec_options, check, allowable_errors, check_keys, read_concern, write_concern, parse_write_concern_error, collation)\u001b[0m\n\u001b[0;32m    475\u001b[0m                            \u001b[0mread_concern\u001b[0m\u001b[1;33m,\u001b[0m\u001b[1;33m\u001b[0m\u001b[0m\n\u001b[0;32m    476\u001b[0m                            \u001b[0mparse_write_concern_error\u001b[0m\u001b[1;33m=\u001b[0m\u001b[0mparse_write_concern_error\u001b[0m\u001b[1;33m,\u001b[0m\u001b[1;33m\u001b[0m\u001b[0m\n\u001b[1;32m--> 477\u001b[1;33m                            collation=collation)\n\u001b[0m\u001b[0;32m    478\u001b[0m         \u001b[1;32mexcept\u001b[0m \u001b[0mOperationFailure\u001b[0m\u001b[1;33m:\u001b[0m\u001b[1;33m\u001b[0m\u001b[0m\n\u001b[0;32m    479\u001b[0m             \u001b[1;32mraise\u001b[0m\u001b[1;33m\u001b[0m\u001b[0m\n",
      "\u001b[1;32mF:\\Anaconda\\lib\\site-packages\\pymongo\\network.py\u001b[0m in \u001b[0;36mcommand\u001b[1;34m(sock, dbname, spec, slave_ok, is_mongos, read_preference, codec_options, check, allowable_errors, address, check_keys, listeners, max_bson_size, read_concern, parse_write_concern_error, collation)\u001b[0m\n\u001b[0;32m    114\u001b[0m             helpers._check_command_response(\n\u001b[0;32m    115\u001b[0m                 \u001b[0mresponse_doc\u001b[0m\u001b[1;33m,\u001b[0m \u001b[1;32mNone\u001b[0m\u001b[1;33m,\u001b[0m \u001b[0mallowable_errors\u001b[0m\u001b[1;33m,\u001b[0m\u001b[1;33m\u001b[0m\u001b[0m\n\u001b[1;32m--> 116\u001b[1;33m                 parse_write_concern_error=parse_write_concern_error)\n\u001b[0m\u001b[0;32m    117\u001b[0m     \u001b[1;32mexcept\u001b[0m \u001b[0mException\u001b[0m \u001b[1;32mas\u001b[0m \u001b[0mexc\u001b[0m\u001b[1;33m:\u001b[0m\u001b[1;33m\u001b[0m\u001b[0m\n\u001b[0;32m    118\u001b[0m         \u001b[1;32mif\u001b[0m \u001b[0mpublish\u001b[0m\u001b[1;33m:\u001b[0m\u001b[1;33m\u001b[0m\u001b[0m\n",
      "\u001b[1;32mF:\\Anaconda\\lib\\site-packages\\pymongo\\helpers.py\u001b[0m in \u001b[0;36m_check_command_response\u001b[1;34m(response, msg, allowable_errors, parse_write_concern_error)\u001b[0m\n\u001b[0;32m    208\u001b[0m \u001b[1;33m\u001b[0m\u001b[0m\n\u001b[0;32m    209\u001b[0m             \u001b[0mmsg\u001b[0m \u001b[1;33m=\u001b[0m \u001b[0mmsg\u001b[0m \u001b[1;32mor\u001b[0m \u001b[1;34m\"%s\"\u001b[0m\u001b[1;33m\u001b[0m\u001b[0m\n\u001b[1;32m--> 210\u001b[1;33m             \u001b[1;32mraise\u001b[0m \u001b[0mOperationFailure\u001b[0m\u001b[1;33m(\u001b[0m\u001b[0mmsg\u001b[0m \u001b[1;33m%\u001b[0m \u001b[0merrmsg\u001b[0m\u001b[1;33m,\u001b[0m \u001b[0mcode\u001b[0m\u001b[1;33m,\u001b[0m \u001b[0mresponse\u001b[0m\u001b[1;33m)\u001b[0m\u001b[1;33m\u001b[0m\u001b[0m\n\u001b[0m\u001b[0;32m    211\u001b[0m \u001b[1;33m\u001b[0m\u001b[0m\n\u001b[0;32m    212\u001b[0m \u001b[1;33m\u001b[0m\u001b[0m\n",
      "\u001b[1;31mOperationFailure\u001b[0m: gmtime failed - your system doesn't support dates before 1970"
     ]
    }
   ],
   "source": [
    "\"\"\"\n",
    "2) Write an aggregation query that groups by the birth year, i.e., the year within the “birth” field, and then report the count\n",
    "for each birth year\n",
    "\"\"\"\n",
    "docs = collection2.aggregate([{\n",
    "    '$group': {\n",
    "        '_id': { '$year': \"$birth\" },\n",
    "        'count':{'$sum':1}\n",
    "    }\n",
    "}])\n",
    "for doc in docs:\n",
    "    print(doc)"
   ]
  },
  {
   "cell_type": "code",
   "execution_count": 32,
   "metadata": {},
   "outputs": [
    {
     "name": "stdout",
     "output_type": "stream",
     "text": [
      "{'_id': 1, 'name': {'first': 'John', 'last': 'Backus'}, 'birth': datetime.datetime(1924, 12, 3, 5, 0), 'death': datetime.datetime(2007, 3, 17, 4, 0), 'contribs': ['Fortran', 'ALGOL', 'Backus-Naur Form', 'FP'], 'awards': [{'award': 'W.W. McDowell Award', 'year': 1967, 'by': 'IEEE Computer Society'}, {'award': 'National Medal of Science', 'year': 1975, 'by': 'National Science Foundation'}, {'award': 'Turing Award', 'year': 1977, 'by': 'ACM'}, {'award': 'Draper Prize', 'year': 1993, 'by': 'National Academy of Engineering'}]}\n",
      "\n",
      "{'_id': ObjectId('51e062189c6ae665454e301d'), 'name': {'first': 'Dennis', 'last': 'Ritchie'}, 'birth': datetime.datetime(1941, 9, 9, 4, 0), 'death': datetime.datetime(2011, 10, 12, 4, 0), 'contribs': ['UNIX', 'C'], 'awards': [{'award': 'Turing Award', 'year': 1983, 'by': 'ACM'}, {'award': 'National Medal of Technology', 'year': 1998, 'by': 'United States'}, {'award': 'Japan Prize', 'year': 2011, 'by': 'The Japan Prize Foundation'}]}\n",
      "\n"
     ]
    }
   ],
   "source": [
    "\"\"\"\n",
    "3) Report the document with the smallest and largest _ids.\n",
    "\"\"\"\n",
    "docs = collection2.find().sort([(\"_id\",pymongo.ASCENDING)])\n",
    "i = 1\n",
    "for doc in docs:\n",
    "    if i== 1 or i == docs.count():\n",
    "        print(doc)\n",
    "        print()\n",
    "    i += 1    "
   ]
  },
  {
   "cell_type": "code",
   "execution_count": 125,
   "metadata": {},
   "outputs": [
    {
     "name": "stdout",
     "output_type": "stream",
     "text": [
      "6\n",
      "{'_id': 4, 'name': {'first': 'Kristen', 'last': 'Nygaard'}, 'birth': datetime.datetime(1926, 8, 27, 4, 0), 'death': datetime.datetime(2002, 8, 10, 4, 0), 'contribs': ['OOP', 'Simula'], 'awards': [{'award': 'Rosing Prize', 'year': 1999, 'by': 'Norwegian Data Association'}, {'award': 'Turing Award', 'year': 2001, 'by': 'ACM'}, {'award': 'IEEE John von Neumann Medal', 'year': 2001, 'by': 'IEEE'}]}\n",
      "{'_id': 5, 'name': {'first': 'Ole-Johan', 'last': 'Dahl'}, 'birth': datetime.datetime(1931, 10, 12, 4, 0), 'death': datetime.datetime(2002, 6, 29, 4, 0), 'contribs': ['OOP', 'Simula'], 'awards': [{'award': 'Rosing Prize', 'year': 1999, 'by': 'Norwegian Data Association'}, {'award': 'Turing Award', 'year': 2001, 'by': 'ACM'}, {'award': 'IEEE John von Neumann Medal', 'year': 2001, 'by': 'IEEE'}]}\n",
      "{'_id': 1, 'name': {'first': 'John', 'last': 'Backus'}, 'birth': datetime.datetime(1924, 12, 3, 5, 0), 'death': datetime.datetime(2007, 3, 17, 4, 0), 'contribs': ['Fortran', 'ALGOL', 'Backus-Naur Form', 'FP'], 'awards': [{'award': 'W.W. McDowell Award', 'year': 1967, 'by': 'IEEE Computer Society'}, {'award': 'National Medal of Science', 'year': 1975, 'by': 'National Science Foundation'}, {'award': 'Turing Award', 'year': 1977, 'by': 'ACM'}, {'award': 'Draper Prize', 'year': 1993, 'by': 'National Academy of Engineering'}]}\n",
      "{'_id': ObjectId('51df07b094c6acd67e492f41'), 'name': {'first': 'John', 'last': 'McCarthy'}, 'birth': datetime.datetime(1927, 9, 4, 4, 0), 'death': datetime.datetime(2011, 12, 24, 5, 0), 'contribs': ['Lisp', 'Artificial Intelligence', 'ALGOL'], 'awards': [{'award': 'Turing Award', 'year': 1971, 'by': 'ACM'}, {'award': 'Kyoto Prize', 'year': 1988, 'by': 'Inamori Foundation'}, {'award': 'National Medal of Science', 'year': 1990, 'by': 'National Science Foundation'}]}\n",
      "{'_id': 3, 'name': {'first': 'Grace', 'last': 'Hopper'}, 'title': 'Rear Admiral', 'birth': datetime.datetime(1906, 12, 9, 5, 0), 'death': datetime.datetime(1992, 1, 1, 5, 0), 'contribs': ['UNIVAC', 'compiler', 'FLOW-MATIC', 'COBOL'], 'awards': [{'award': 'Computer Sciences Man of the Year', 'year': 1969, 'by': 'Data Processing Management Association'}, {'award': 'Distinguished Fellow', 'year': 1973, 'by': ' British Computer Society'}, {'award': 'W. W. McDowell Award', 'year': 1976, 'by': 'IEEE Computer Society'}, {'award': 'National Medal of Technology', 'year': 1991, 'by': 'United States'}]}\n",
      "{'_id': ObjectId('51e062189c6ae665454e301d'), 'name': {'first': 'Dennis', 'last': 'Ritchie'}, 'birth': datetime.datetime(1941, 9, 9, 4, 0), 'death': datetime.datetime(2011, 10, 12, 4, 0), 'contribs': ['UNIX', 'C'], 'awards': [{'award': 'Turing Award', 'year': 1983, 'by': 'ACM'}, {'award': 'National Medal of Technology', 'year': 1998, 'by': 'United States'}, {'award': 'Japan Prize', 'year': 2011, 'by': 'The Japan Prize Foundation'}]}\n"
     ]
    }
   ],
   "source": [
    "collection2.create_index(\n",
    "    [\n",
    "        ('awards.award','text')\n",
    "    ])\n",
    "\n",
    "docs = collection2.find({'$text':{'$search':\"/National Medal|Turing/\"}})\n",
    "print(docs.count())\n",
    "for doc in docs:\n",
    "    print(doc)"
   ]
  },
  {
   "cell_type": "code",
   "execution_count": 126,
   "metadata": {},
   "outputs": [
    {
     "name": "stdout",
     "output_type": "stream",
     "text": [
      "6\n",
      "{'_id': 4, 'name': {'first': 'Kristen', 'last': 'Nygaard'}, 'birth': datetime.datetime(1926, 8, 27, 4, 0), 'death': datetime.datetime(2002, 8, 10, 4, 0), 'contribs': ['OOP', 'Simula'], 'awards': [{'award': 'Rosing Prize', 'year': 1999, 'by': 'Norwegian Data Association'}, {'award': 'Turing Award', 'year': 2001, 'by': 'ACM'}, {'award': 'IEEE John von Neumann Medal', 'year': 2001, 'by': 'IEEE'}]}\n",
      "{'_id': 5, 'name': {'first': 'Ole-Johan', 'last': 'Dahl'}, 'birth': datetime.datetime(1931, 10, 12, 4, 0), 'death': datetime.datetime(2002, 6, 29, 4, 0), 'contribs': ['OOP', 'Simula'], 'awards': [{'award': 'Rosing Prize', 'year': 1999, 'by': 'Norwegian Data Association'}, {'award': 'Turing Award', 'year': 2001, 'by': 'ACM'}, {'award': 'IEEE John von Neumann Medal', 'year': 2001, 'by': 'IEEE'}]}\n",
      "{'_id': 1, 'name': {'first': 'John', 'last': 'Backus'}, 'birth': datetime.datetime(1924, 12, 3, 5, 0), 'death': datetime.datetime(2007, 3, 17, 4, 0), 'contribs': ['Fortran', 'ALGOL', 'Backus-Naur Form', 'FP'], 'awards': [{'award': 'W.W. McDowell Award', 'year': 1967, 'by': 'IEEE Computer Society'}, {'award': 'National Medal of Science', 'year': 1975, 'by': 'National Science Foundation'}, {'award': 'Turing Award', 'year': 1977, 'by': 'ACM'}, {'award': 'Draper Prize', 'year': 1993, 'by': 'National Academy of Engineering'}]}\n",
      "{'_id': ObjectId('51df07b094c6acd67e492f41'), 'name': {'first': 'John', 'last': 'McCarthy'}, 'birth': datetime.datetime(1927, 9, 4, 4, 0), 'death': datetime.datetime(2011, 12, 24, 5, 0), 'contribs': ['Lisp', 'Artificial Intelligence', 'ALGOL'], 'awards': [{'award': 'Turing Award', 'year': 1971, 'by': 'ACM'}, {'award': 'Kyoto Prize', 'year': 1988, 'by': 'Inamori Foundation'}, {'award': 'National Medal of Science', 'year': 1990, 'by': 'National Science Foundation'}]}\n",
      "{'_id': 3, 'name': {'first': 'Grace', 'last': 'Hopper'}, 'title': 'Rear Admiral', 'birth': datetime.datetime(1906, 12, 9, 5, 0), 'death': datetime.datetime(1992, 1, 1, 5, 0), 'contribs': ['UNIVAC', 'compiler', 'FLOW-MATIC', 'COBOL'], 'awards': [{'award': 'Computer Sciences Man of the Year', 'year': 1969, 'by': 'Data Processing Management Association'}, {'award': 'Distinguished Fellow', 'year': 1973, 'by': ' British Computer Society'}, {'award': 'W. W. McDowell Award', 'year': 1976, 'by': 'IEEE Computer Society'}, {'award': 'National Medal of Technology', 'year': 1991, 'by': 'United States'}]}\n",
      "{'_id': ObjectId('51e062189c6ae665454e301d'), 'name': {'first': 'Dennis', 'last': 'Ritchie'}, 'birth': datetime.datetime(1941, 9, 9, 4, 0), 'death': datetime.datetime(2011, 10, 12, 4, 0), 'contribs': ['UNIX', 'C'], 'awards': [{'award': 'Turing Award', 'year': 1983, 'by': 'ACM'}, {'award': 'National Medal of Technology', 'year': 1998, 'by': 'United States'}, {'award': 'Japan Prize', 'year': 2011, 'by': 'The Japan Prize Foundation'}]}\n"
     ]
    }
   ],
   "source": [
    "\"\"\"\n",
    "4) Search for and report all documents containing either “Turing” or “National Medal” as text substring\n",
    "\"\"\"\n",
    "collection2.drop_indexes()\n",
    "collection2.create_index(\n",
    "    [\n",
    "        ('awards.award','text')\n",
    "    ])\n",
    "collection2.index_information()\n",
    "docs = collection2.find({'$text':{'$search':\"/National Medal|Turing/\"}})\n",
    "print(docs.count())\n",
    "for doc in docs:\n",
    "    print(doc)"
   ]
  },
  {
   "cell_type": "code",
   "execution_count": null,
   "metadata": {
    "collapsed": true
   },
   "outputs": [],
   "source": [
    "collection2.index_information()"
   ]
  },
  {
   "cell_type": "code",
   "execution_count": 107,
   "metadata": {
    "collapsed": true
   },
   "outputs": [],
   "source": [
    "collection2.drop_indexes()"
   ]
  },
  {
   "cell_type": "code",
   "execution_count": 289,
   "metadata": {},
   "outputs": [
    {
     "data": {
      "text/plain": [
       "'awards_text'"
      ]
     },
     "execution_count": 289,
     "metadata": {},
     "output_type": "execute_result"
    }
   ],
   "source": []
  },
  {
   "cell_type": "markdown",
   "metadata": {},
   "source": [
    "# <center>Problem 3 -- Parent-Child"
   ]
  },
  {
   "cell_type": "code",
   "execution_count": 397,
   "metadata": {},
   "outputs": [
    {
     "data": {
      "text/plain": [
       "{'code': 26,\n",
       " 'codeName': 'NamespaceNotFound',\n",
       " 'errmsg': 'ns not found',\n",
       " 'ok': 0.0}"
      ]
     },
     "execution_count": 397,
     "metadata": {},
     "output_type": "execute_result"
    }
   ],
   "source": [
    "#Create the Parent_Child Tree\n",
    "db.drop_collection('Tree1')\n",
    "db.drop_collection('Tree2')"
   ]
  },
  {
   "cell_type": "code",
   "execution_count": 399,
   "metadata": {},
   "outputs": [
    {
     "data": {
      "text/plain": [
       "<pymongo.results.InsertOneResult at 0x1e17c8c6a88>"
      ]
     },
     "execution_count": 399,
     "metadata": {},
     "output_type": "execute_result"
    }
   ],
   "source": [
    "db.Tree1.insert_one({'_id':\"MongoDB\",'parent':\"Databases\"})\n",
    "db.Tree1.insert_one({'_id':\"dbm\", 'parent':\"Databases\"})\n",
    "db.Tree1.insert_one({'_id':\"Databases\", 'parent':\"Programming\"})\n",
    "db.Tree1.insert_one({'_id':\"Languages\", 'parent':\"Programming\"})\n",
    "db.Tree1.insert_one({'_id':\"Programming\", 'parent':\"Books\"})\n",
    "db.Tree1.insert_one({'_id':\"Books\"})"
   ]
  },
  {
   "cell_type": "code",
   "execution_count": 418,
   "metadata": {},
   "outputs": [
    {
     "name": "stdout",
     "output_type": "stream",
     "text": [
      "[{'Name': 'Databases', 'Level': 1}, {'Name': 'Programming', 'Level': 2}, {'Name': 'Books', 'Level': 3}]\n"
     ]
    }
   ],
   "source": [
    "#1) Write a query to report the ancestors of \"MongoDB\", returning as output an array\n",
    "results=[]\n",
    "curr=db.Tree1.find_one({'_id':\"MongoDB\"})\n",
    "level = 1\n",
    "while len(curr) > 1 :\n",
    "    results.append({\"Name\":curr['parent'], \"Level\": level})\n",
    "    curr = db.Tree1.find_one({'_id':curr['parent']})\n",
    "    level += 1\n",
    "print(results)"
   ]
  },
  {
   "cell_type": "code",
   "execution_count": 442,
   "metadata": {},
   "outputs": [
    {
     "data": {
      "text/plain": [
       "4"
      ]
     },
     "execution_count": 442,
     "metadata": {},
     "output_type": "execute_result"
    }
   ],
   "source": [
    "#2) Given only the root node, i.e,. _id = \"Books\", write a query\n",
    "\n",
    "def get_height(root, height):\n",
    "    children = db.Tree1.find({'parent':root})\n",
    "    maxH = height\n",
    "    for child in children:\n",
    "        maxH = max(get_height(child['_id'],height+1), maxH)\n",
    "    return maxH\n",
    "\n",
    "get_height(\"Books\",1)\n"
   ]
  },
  {
   "cell_type": "markdown",
   "metadata": {},
   "source": [
    "<Center>Children_referencing model"
   ]
  },
  {
   "cell_type": "code",
   "execution_count": 445,
   "metadata": {},
   "outputs": [
    {
     "data": {
      "text/plain": [
       "<pymongo.results.InsertOneResult at 0x1e17c749c88>"
      ]
     },
     "execution_count": 445,
     "metadata": {},
     "output_type": "execute_result"
    }
   ],
   "source": [
    "#Create the model\n",
    "db.Tree2.insert_one({'_id':\"MongoDB\", 'children':[]})\n",
    "db.Tree2.insert_one({'_id':\"dbm\", 'children':[]})\n",
    "db.Tree2.insert_one({'_id':\"Databases\", 'children':[\"MongoDB\",\"dbm\"]})\n",
    "db.Tree2.insert_one({'_id':\"Languages\", 'children':[]})\n",
    "db.Tree2.insert_one({'_id':\"Programming\", 'children':[\"Databases\",\"Languages\"]})\n",
    "db.Tree2.insert_one({'_id':\"Books\", 'children':[\"Programming\"]})"
   ]
  },
  {
   "cell_type": "code",
   "execution_count": 473,
   "metadata": {},
   "outputs": [
    {
     "name": "stdout",
     "output_type": "stream",
     "text": [
      "{'_id': 'Databases', 'children': ['MongoDB', 'dbm']}\n"
     ]
    }
   ],
   "source": [
    "#1) Write a query to report the parent of \"MongoDB\"\n",
    "print(db.Tree2.find_one({'children':'MongoDB'}))"
   ]
  },
  {
   "cell_type": "code",
   "execution_count": 471,
   "metadata": {},
   "outputs": [
    {
     "name": "stdout",
     "output_type": "stream",
     "text": [
      "['Databases', 'MongoDB', 'dbm', 'Languages']\n"
     ]
    }
   ],
   "source": [
    "#2)Write a query to report the descendants of \"Programming\"\n",
    "result = []\n",
    "def get_des(root, result):\n",
    "    children = db.Tree2.find_one({'_id':root})['children']\n",
    "    for child in children:\n",
    "        result.append(child)\n",
    "        get_des(child,result)\n",
    "get_des(\"Programming\", result)\n",
    "print(result)"
   ]
  },
  {
   "cell_type": "code",
   "execution_count": 490,
   "metadata": {},
   "outputs": [
    {
     "name": "stdout",
     "output_type": "stream",
     "text": [
      "['Languages']\n"
     ]
    }
   ],
   "source": [
    "#3)Write a query to report the sibilings of \"Databases\"\n",
    "def get_sib(curr): \n",
    "    children = db.Tree2.find_one({'children':curr})['children']\n",
    "    children.remove(curr)\n",
    "    return children\n",
    "print(get_sib(\"Databases\"))"
   ]
  }
 ],
 "metadata": {
  "kernelspec": {
   "display_name": "Python 3",
   "language": "python",
   "name": "python3"
  },
  "language_info": {
   "codemirror_mode": {
    "name": "ipython",
    "version": 3
   },
   "file_extension": ".py",
   "mimetype": "text/x-python",
   "name": "python",
   "nbconvert_exporter": "python",
   "pygments_lexer": "ipython3",
   "version": "3.6.3"
  }
 },
 "nbformat": 4,
 "nbformat_minor": 2
}
